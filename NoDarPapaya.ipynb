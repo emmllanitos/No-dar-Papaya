{
  "cells": [
    {
      "attachments": {},
      "cell_type": "markdown",
      "metadata": {},
      "source": [
        "### Proyecto: Scoring crediticio automatizado No dar Papaya\n",
        "---\n",
        " - Análisis de Riesgo de posible incumplimiento\n",
        " - **Notebook**: by Edwar Mayorga.\n",
        " - **Url**: https://github.com/emmllanitos\n",
        " - **Fecha de Creación**: Junio 2023"
      ]
    },
    {
      "attachments": {},
      "cell_type": "markdown",
      "metadata": {
        "id": "jKb7M8JtLiBR"
      },
      "source": [
        "### Introducción\n",
        "---\n",
        "\n",
        "Este proyecto consiste en **automatizar** un informe para la división de préstamos de un Banco Papaya.\n",
        "\n",
        "El informe se tendrá en cuenta al crear una **puntuación de crédito** para un cliente potencial. La **puntuación de crédito** se utiliza para evaluar la capacidad de que un cliente  pueda pagar su préstamo."
      ]
    },
    {
      "attachments": {},
      "cell_type": "markdown",
      "metadata": {
        "id": "JbsVsLTtJ_Vr"
      },
      "source": [
        "### Propósito del Proyecto\n",
        "---\n",
        "\n",
        "Dar a conocer si un cliente puede ser acreedor o no a una línea de crédito por parte del Banco Papaya de acuerdo a una serie de características personales y profesionales registradas por la entidad financiera."
      ]
    },
    {
      "attachments": {},
      "cell_type": "markdown",
      "metadata": {
        "id": "asxkhSXWJ_Vt"
      },
      "source": [
        "### Descripción de los datos\n",
        "---\n",
        "\n",
        "El dataset es un historico de datos de posibles clientes que brindaron su informacion aceptando su tratamiento bajo politicas del Banco Papaya en la **solicitud** de credito\n",
        "\n",
        "- **children** - el número de hijos en la familia\n",
        "- **days_employed** - experiencia laboral en días\n",
        "- **dob_years** - la edad del cliente en años\n",
        "- **education** - la educación del cliente\n",
        "- **education_id** - identificador de educación\n",
        "- **family_status** - estado civil\n",
        "- **family_status_id** - identificador de estado civil\n",
        "- **gender** - género del cliente\n",
        "- **income_type** - tipo de empleo\n",
        "- **debt** - ¿había alguna deuda en el pago de un préstamo?\n",
        "- **total_income** - ingreso mensual\n",
        "- **purpose** - el propósito de obtener un préstamo"
      ]
    },
    {
      "attachments": {},
      "cell_type": "markdown",
      "metadata": {
        "id": "e41_5XotJ_Vs"
      },
      "source": [
        "### Modulo 1: Exploración de Datos\n",
        "---\n",
        "\n",
        "Vamos a comenzar con la exploracion de datos, conocer la informacion que contienen y analisis de la misma.\n",
        "\n",
        "Primero iniciaremos con la **Carga de Librerias**"
      ]
    },
    {
      "cell_type": "code",
      "execution_count": 1,
      "metadata": {
        "id": "yTMzD9nTJ_Vs"
      },
      "outputs": [],
      "source": [
        "import pandas as pd\n",
        "from sklearn.ensemble import RandomForestClassifier\n",
        "from sklearn.model_selection import train_test_split\n",
        "from sklearn.metrics import classification_report, confusion_matrix\n",
        "import matplotlib.pyplot as plt\n",
        "import seaborn as sns"
      ]
    },
    {
      "attachments": {},
      "cell_type": "markdown",
      "metadata": {
        "id": "-o6hWPUgVMbT"
      },
      "source": [
        "Lectura de Datos"
      ]
    },
    {
      "cell_type": "code",
      "execution_count": 2,
      "metadata": {
        "id": "QWNvnbuRQTF8"
      },
      "outputs": [],
      "source": [
        "dataset = 'data/CreditScoring.csv'\n",
        "\n",
        "df = pd.read_csv(dataset)"
      ]
    },
    {
      "attachments": {},
      "cell_type": "markdown",
      "metadata": {
        "id": "NBO6oQekQtDG"
      },
      "source": [
        "Informacion de los datos"
      ]
    },
    {
      "cell_type": "code",
      "execution_count": 3,
      "metadata": {
        "colab": {
          "base_uri": "https://localhost:8080/"
        },
        "id": "hcrIMbPOJ_Vt",
        "outputId": "f0dd24c6-26de-42c8-e71a-a6f9c85177ef",
        "scrolled": false
      },
      "outputs": [
        {
          "name": "stdout",
          "output_type": "stream",
          "text": [
            "<class 'pandas.core.frame.DataFrame'>\n",
            "RangeIndex: 21525 entries, 0 to 21524\n",
            "Data columns (total 12 columns):\n",
            " #   Column            Non-Null Count  Dtype  \n",
            "---  ------            --------------  -----  \n",
            " 0   children          21525 non-null  int64  \n",
            " 1   days_employed     19351 non-null  float64\n",
            " 2   dob_years         21525 non-null  int64  \n",
            " 3   education         21525 non-null  object \n",
            " 4   education_id      21525 non-null  int64  \n",
            " 5   family_status     21525 non-null  object \n",
            " 6   family_status_id  21525 non-null  int64  \n",
            " 7   gender            21525 non-null  object \n",
            " 8   income_type       21525 non-null  object \n",
            " 9   debt              21525 non-null  int64  \n",
            " 10  total_income      19351 non-null  float64\n",
            " 11  purpose           21525 non-null  object \n",
            "dtypes: float64(2), int64(5), object(5)\n",
            "memory usage: 2.0+ MB\n"
          ]
        }
      ],
      "source": [
        "df.info()"
      ]
    },
    {
      "attachments": {},
      "cell_type": "markdown",
      "metadata": {},
      "source": [
        "Vistazo inicial de los datos"
      ]
    },
    {
      "cell_type": "code",
      "execution_count": 4,
      "metadata": {
        "colab": {
          "base_uri": "https://localhost:8080/",
          "height": 206
        },
        "id": "MnAW8rgRJ_Vu",
        "outputId": "02909a1f-2f7d-4e5e-8d2e-560b4301b711",
        "scrolled": false
      },
      "outputs": [
        {
          "data": {
            "text/html": [
              "<div>\n",
              "<style scoped>\n",
              "    .dataframe tbody tr th:only-of-type {\n",
              "        vertical-align: middle;\n",
              "    }\n",
              "\n",
              "    .dataframe tbody tr th {\n",
              "        vertical-align: top;\n",
              "    }\n",
              "\n",
              "    .dataframe thead th {\n",
              "        text-align: right;\n",
              "    }\n",
              "</style>\n",
              "<table border=\"1\" class=\"dataframe\">\n",
              "  <thead>\n",
              "    <tr style=\"text-align: right;\">\n",
              "      <th></th>\n",
              "      <th>children</th>\n",
              "      <th>days_employed</th>\n",
              "      <th>dob_years</th>\n",
              "      <th>education</th>\n",
              "      <th>education_id</th>\n",
              "      <th>family_status</th>\n",
              "      <th>family_status_id</th>\n",
              "      <th>gender</th>\n",
              "      <th>income_type</th>\n",
              "      <th>debt</th>\n",
              "      <th>total_income</th>\n",
              "      <th>purpose</th>\n",
              "    </tr>\n",
              "  </thead>\n",
              "  <tbody>\n",
              "    <tr>\n",
              "      <th>0</th>\n",
              "      <td>1</td>\n",
              "      <td>-8437.673028</td>\n",
              "      <td>42</td>\n",
              "      <td>masters degree</td>\n",
              "      <td>0</td>\n",
              "      <td>married</td>\n",
              "      <td>0</td>\n",
              "      <td>F</td>\n",
              "      <td>employee</td>\n",
              "      <td>0</td>\n",
              "      <td>253875.639453</td>\n",
              "      <td>purchase of the house</td>\n",
              "    </tr>\n",
              "    <tr>\n",
              "      <th>1</th>\n",
              "      <td>1</td>\n",
              "      <td>-4024.803754</td>\n",
              "      <td>36</td>\n",
              "      <td>secondary education</td>\n",
              "      <td>1</td>\n",
              "      <td>married</td>\n",
              "      <td>0</td>\n",
              "      <td>F</td>\n",
              "      <td>employee</td>\n",
              "      <td>0</td>\n",
              "      <td>112080.014102</td>\n",
              "      <td>car purchase</td>\n",
              "    </tr>\n",
              "    <tr>\n",
              "      <th>2</th>\n",
              "      <td>0</td>\n",
              "      <td>-5623.422610</td>\n",
              "      <td>33</td>\n",
              "      <td>Secondary Education</td>\n",
              "      <td>1</td>\n",
              "      <td>married</td>\n",
              "      <td>0</td>\n",
              "      <td>M</td>\n",
              "      <td>employee</td>\n",
              "      <td>0</td>\n",
              "      <td>145885.952297</td>\n",
              "      <td>purchase of the house</td>\n",
              "    </tr>\n",
              "    <tr>\n",
              "      <th>3</th>\n",
              "      <td>3</td>\n",
              "      <td>-4124.747207</td>\n",
              "      <td>32</td>\n",
              "      <td>secondary education</td>\n",
              "      <td>1</td>\n",
              "      <td>married</td>\n",
              "      <td>0</td>\n",
              "      <td>M</td>\n",
              "      <td>employee</td>\n",
              "      <td>0</td>\n",
              "      <td>267628.550329</td>\n",
              "      <td>supplementary education</td>\n",
              "    </tr>\n",
              "    <tr>\n",
              "      <th>4</th>\n",
              "      <td>0</td>\n",
              "      <td>340266.072047</td>\n",
              "      <td>53</td>\n",
              "      <td>secondary education</td>\n",
              "      <td>1</td>\n",
              "      <td>civil partnership</td>\n",
              "      <td>1</td>\n",
              "      <td>F</td>\n",
              "      <td>retiree</td>\n",
              "      <td>0</td>\n",
              "      <td>158616.077870</td>\n",
              "      <td>to have a wedding</td>\n",
              "    </tr>\n",
              "  </tbody>\n",
              "</table>\n",
              "</div>"
            ],
            "text/plain": [
              "   children  days_employed  dob_years            education  education_id  \\\n",
              "0         1   -8437.673028         42       masters degree             0   \n",
              "1         1   -4024.803754         36  secondary education             1   \n",
              "2         0   -5623.422610         33  Secondary Education             1   \n",
              "3         3   -4124.747207         32  secondary education             1   \n",
              "4         0  340266.072047         53  secondary education             1   \n",
              "\n",
              "       family_status  family_status_id gender income_type  debt  \\\n",
              "0            married                 0      F    employee     0   \n",
              "1            married                 0      F    employee     0   \n",
              "2            married                 0      M    employee     0   \n",
              "3            married                 0      M    employee     0   \n",
              "4  civil partnership                 1      F     retiree     0   \n",
              "\n",
              "    total_income                  purpose  \n",
              "0  253875.639453    purchase of the house  \n",
              "1  112080.014102             car purchase  \n",
              "2  145885.952297    purchase of the house  \n",
              "3  267628.550329  supplementary education  \n",
              "4  158616.077870        to have a wedding  "
            ]
          },
          "execution_count": 4,
          "metadata": {},
          "output_type": "execute_result"
        }
      ],
      "source": [
        "df.head()"
      ]
    },
    {
      "attachments": {},
      "cell_type": "markdown",
      "metadata": {
        "id": "U1BRuaH0J_Vu"
      },
      "source": [
        "Segun el resultado de la info, se envidencia que algunas columnas tienen datos con nulos o tipo NaN, entonces vamos a encontrarlas y tratarlas."
      ]
    },
    {
      "cell_type": "code",
      "execution_count": 5,
      "metadata": {
        "colab": {
          "base_uri": "https://localhost:8080/",
          "height": 424
        },
        "id": "-pX2njwjJ_Vu",
        "outputId": "23c8a924-3044-4b1c-846f-b2ad6c5d340f",
        "scrolled": true
      },
      "outputs": [
        {
          "data": {
            "text/html": [
              "<div>\n",
              "<style scoped>\n",
              "    .dataframe tbody tr th:only-of-type {\n",
              "        vertical-align: middle;\n",
              "    }\n",
              "\n",
              "    .dataframe tbody tr th {\n",
              "        vertical-align: top;\n",
              "    }\n",
              "\n",
              "    .dataframe thead th {\n",
              "        text-align: right;\n",
              "    }\n",
              "</style>\n",
              "<table border=\"1\" class=\"dataframe\">\n",
              "  <thead>\n",
              "    <tr style=\"text-align: right;\">\n",
              "      <th></th>\n",
              "      <th>children</th>\n",
              "      <th>days_employed</th>\n",
              "      <th>dob_years</th>\n",
              "      <th>education</th>\n",
              "      <th>education_id</th>\n",
              "      <th>family_status</th>\n",
              "      <th>family_status_id</th>\n",
              "      <th>gender</th>\n",
              "      <th>income_type</th>\n",
              "      <th>debt</th>\n",
              "      <th>total_income</th>\n",
              "      <th>purpose</th>\n",
              "    </tr>\n",
              "  </thead>\n",
              "  <tbody>\n",
              "    <tr>\n",
              "      <th>12</th>\n",
              "      <td>0</td>\n",
              "      <td>NaN</td>\n",
              "      <td>65</td>\n",
              "      <td>secondary education</td>\n",
              "      <td>1</td>\n",
              "      <td>civil partnership</td>\n",
              "      <td>1</td>\n",
              "      <td>M</td>\n",
              "      <td>retiree</td>\n",
              "      <td>0</td>\n",
              "      <td>NaN</td>\n",
              "      <td>to have a wedding</td>\n",
              "    </tr>\n",
              "    <tr>\n",
              "      <th>26</th>\n",
              "      <td>0</td>\n",
              "      <td>NaN</td>\n",
              "      <td>41</td>\n",
              "      <td>secondary education</td>\n",
              "      <td>1</td>\n",
              "      <td>married</td>\n",
              "      <td>0</td>\n",
              "      <td>M</td>\n",
              "      <td>civil servant</td>\n",
              "      <td>0</td>\n",
              "      <td>NaN</td>\n",
              "      <td>education</td>\n",
              "    </tr>\n",
              "    <tr>\n",
              "      <th>29</th>\n",
              "      <td>0</td>\n",
              "      <td>NaN</td>\n",
              "      <td>63</td>\n",
              "      <td>secondary education</td>\n",
              "      <td>1</td>\n",
              "      <td>unmarried</td>\n",
              "      <td>4</td>\n",
              "      <td>F</td>\n",
              "      <td>retiree</td>\n",
              "      <td>0</td>\n",
              "      <td>NaN</td>\n",
              "      <td>building a real estate</td>\n",
              "    </tr>\n",
              "    <tr>\n",
              "      <th>41</th>\n",
              "      <td>0</td>\n",
              "      <td>NaN</td>\n",
              "      <td>50</td>\n",
              "      <td>secondary education</td>\n",
              "      <td>1</td>\n",
              "      <td>married</td>\n",
              "      <td>0</td>\n",
              "      <td>F</td>\n",
              "      <td>civil servant</td>\n",
              "      <td>0</td>\n",
              "      <td>NaN</td>\n",
              "      <td>second-hand car purchase</td>\n",
              "    </tr>\n",
              "    <tr>\n",
              "      <th>55</th>\n",
              "      <td>0</td>\n",
              "      <td>NaN</td>\n",
              "      <td>54</td>\n",
              "      <td>secondary education</td>\n",
              "      <td>1</td>\n",
              "      <td>civil partnership</td>\n",
              "      <td>1</td>\n",
              "      <td>F</td>\n",
              "      <td>retiree</td>\n",
              "      <td>1</td>\n",
              "      <td>NaN</td>\n",
              "      <td>to have a wedding</td>\n",
              "    </tr>\n",
              "    <tr>\n",
              "      <th>...</th>\n",
              "      <td>...</td>\n",
              "      <td>...</td>\n",
              "      <td>...</td>\n",
              "      <td>...</td>\n",
              "      <td>...</td>\n",
              "      <td>...</td>\n",
              "      <td>...</td>\n",
              "      <td>...</td>\n",
              "      <td>...</td>\n",
              "      <td>...</td>\n",
              "      <td>...</td>\n",
              "      <td>...</td>\n",
              "    </tr>\n",
              "    <tr>\n",
              "      <th>21489</th>\n",
              "      <td>2</td>\n",
              "      <td>NaN</td>\n",
              "      <td>47</td>\n",
              "      <td>Secondary Education</td>\n",
              "      <td>1</td>\n",
              "      <td>married</td>\n",
              "      <td>0</td>\n",
              "      <td>M</td>\n",
              "      <td>partner</td>\n",
              "      <td>0</td>\n",
              "      <td>NaN</td>\n",
              "      <td>purchase of a car</td>\n",
              "    </tr>\n",
              "    <tr>\n",
              "      <th>21495</th>\n",
              "      <td>1</td>\n",
              "      <td>NaN</td>\n",
              "      <td>50</td>\n",
              "      <td>secondary education</td>\n",
              "      <td>1</td>\n",
              "      <td>civil partnership</td>\n",
              "      <td>1</td>\n",
              "      <td>F</td>\n",
              "      <td>employee</td>\n",
              "      <td>0</td>\n",
              "      <td>NaN</td>\n",
              "      <td>wedding ceremony</td>\n",
              "    </tr>\n",
              "    <tr>\n",
              "      <th>21497</th>\n",
              "      <td>0</td>\n",
              "      <td>NaN</td>\n",
              "      <td>48</td>\n",
              "      <td>MASTERS DEGREE</td>\n",
              "      <td>0</td>\n",
              "      <td>married</td>\n",
              "      <td>0</td>\n",
              "      <td>F</td>\n",
              "      <td>partner</td>\n",
              "      <td>0</td>\n",
              "      <td>NaN</td>\n",
              "      <td>building a property</td>\n",
              "    </tr>\n",
              "    <tr>\n",
              "      <th>21502</th>\n",
              "      <td>1</td>\n",
              "      <td>NaN</td>\n",
              "      <td>42</td>\n",
              "      <td>secondary education</td>\n",
              "      <td>1</td>\n",
              "      <td>married</td>\n",
              "      <td>0</td>\n",
              "      <td>F</td>\n",
              "      <td>employee</td>\n",
              "      <td>0</td>\n",
              "      <td>NaN</td>\n",
              "      <td>building a real estate</td>\n",
              "    </tr>\n",
              "    <tr>\n",
              "      <th>21510</th>\n",
              "      <td>2</td>\n",
              "      <td>NaN</td>\n",
              "      <td>28</td>\n",
              "      <td>secondary education</td>\n",
              "      <td>1</td>\n",
              "      <td>married</td>\n",
              "      <td>0</td>\n",
              "      <td>F</td>\n",
              "      <td>employee</td>\n",
              "      <td>0</td>\n",
              "      <td>NaN</td>\n",
              "      <td>car purchase</td>\n",
              "    </tr>\n",
              "  </tbody>\n",
              "</table>\n",
              "<p>2174 rows × 12 columns</p>\n",
              "</div>"
            ],
            "text/plain": [
              "       children  days_employed  dob_years            education  education_id  \\\n",
              "12            0            NaN         65  secondary education             1   \n",
              "26            0            NaN         41  secondary education             1   \n",
              "29            0            NaN         63  secondary education             1   \n",
              "41            0            NaN         50  secondary education             1   \n",
              "55            0            NaN         54  secondary education             1   \n",
              "...         ...            ...        ...                  ...           ...   \n",
              "21489         2            NaN         47  Secondary Education             1   \n",
              "21495         1            NaN         50  secondary education             1   \n",
              "21497         0            NaN         48       MASTERS DEGREE             0   \n",
              "21502         1            NaN         42  secondary education             1   \n",
              "21510         2            NaN         28  secondary education             1   \n",
              "\n",
              "           family_status  family_status_id gender    income_type  debt  \\\n",
              "12     civil partnership                 1      M        retiree     0   \n",
              "26               married                 0      M  civil servant     0   \n",
              "29             unmarried                 4      F        retiree     0   \n",
              "41               married                 0      F  civil servant     0   \n",
              "55     civil partnership                 1      F        retiree     1   \n",
              "...                  ...               ...    ...            ...   ...   \n",
              "21489            married                 0      M        partner     0   \n",
              "21495  civil partnership                 1      F       employee     0   \n",
              "21497            married                 0      F        partner     0   \n",
              "21502            married                 0      F       employee     0   \n",
              "21510            married                 0      F       employee     0   \n",
              "\n",
              "       total_income                   purpose  \n",
              "12              NaN         to have a wedding  \n",
              "26              NaN                 education  \n",
              "29              NaN    building a real estate  \n",
              "41              NaN  second-hand car purchase  \n",
              "55              NaN         to have a wedding  \n",
              "...             ...                       ...  \n",
              "21489           NaN         purchase of a car  \n",
              "21495           NaN          wedding ceremony  \n",
              "21497           NaN       building a property  \n",
              "21502           NaN    building a real estate  \n",
              "21510           NaN              car purchase  \n",
              "\n",
              "[2174 rows x 12 columns]"
            ]
          },
          "execution_count": 5,
          "metadata": {},
          "output_type": "execute_result"
        }
      ],
      "source": [
        "df[df.isna().any(axis=1)]"
      ]
    },
    {
      "cell_type": "code",
      "execution_count": 6,
      "metadata": {
        "colab": {
          "base_uri": "https://localhost:8080/"
        },
        "id": "fAqxTc62J_Vu",
        "outputId": "fa9c8554-825e-4331-dad0-bfcc88125dd1",
        "scrolled": false
      },
      "outputs": [
        {
          "data": {
            "text/plain": [
              "children               0\n",
              "days_employed       2174\n",
              "dob_years              0\n",
              "education              0\n",
              "education_id           0\n",
              "family_status          0\n",
              "family_status_id       0\n",
              "gender                 0\n",
              "income_type            0\n",
              "debt                   0\n",
              "total_income        2174\n",
              "purpose                0\n",
              "dtype: int64"
            ]
          },
          "execution_count": 6,
          "metadata": {},
          "output_type": "execute_result"
        }
      ],
      "source": [
        "df.isna().sum()"
      ]
    },
    {
      "attachments": {},
      "cell_type": "markdown",
      "metadata": {
        "id": "_wLuIkxTJ_Vu"
      },
      "source": [
        "Se evidencia que la columna Dias laborados y Ingresos mensuales estan con vacios, esto quiere decir que las personas que no tienen experiencia laboral tampoco registran un ingreso mensual.\n",
        "\n",
        "**Supuesto 1** \n",
        "\n",
        "Lo anterior probablemente tenga una relación con el nivel de educación ya que una educación deficiente o de bajo nivel tiene como consecuencias desempleo y/o empleos no formales, para ello, vamos a investigar a los clientes que no tienen datos sobre la característica identificada y la columna con los valores ausentes."
      ]
    },
    {
      "attachments": {},
      "cell_type": "markdown",
      "metadata": {
        "id": "Ju_FnkxZWzcl"
      },
      "source": [
        "**Análisis de Educación**"
      ]
    },
    {
      "cell_type": "code",
      "execution_count": 7,
      "metadata": {
        "colab": {
          "base_uri": "https://localhost:8080/"
        },
        "id": "z9HI9hwOJ_Vu",
        "outputId": "12099e31-591f-4057-d6be-fb5669f549f8",
        "scrolled": true
      },
      "outputs": [
        {
          "data": {
            "text/plain": [
              "array(['masters degree', 'secondary education', 'Secondary Education',\n",
              "       'SECONDARY EDUCATION', 'MASTERS DEGREE', 'bachelor degree',\n",
              "       'primary education', 'Masters Degree', 'BACHELOR DEGREE',\n",
              "       'Bachelor Degree', 'PRIMARY EDUCATION', 'Primary Education',\n",
              "       'Academic Degree', 'ACADEMIC DEGREE', 'academic degree'],\n",
              "      dtype=object)"
            ]
          },
          "execution_count": 7,
          "metadata": {},
          "output_type": "execute_result"
        }
      ],
      "source": [
        "df['education'].unique()"
      ]
    },
    {
      "attachments": {},
      "cell_type": "markdown",
      "metadata": {
        "id": "aspaLx-nJ_Vv"
      },
      "source": [
        "Existen datos duplicados que contienen el mismo grado escolar pero escritos en mayúsculas y minúsculas, demosle formato para tener un resultado más preciso."
      ]
    },
    {
      "cell_type": "code",
      "execution_count": 8,
      "metadata": {
        "colab": {
          "base_uri": "https://localhost:8080/"
        },
        "id": "HIvh8VrYJ_Vv",
        "outputId": "a0469e06-abdf-47f1-f5be-cfb3390c19d9",
        "scrolled": true
      },
      "outputs": [
        {
          "data": {
            "text/plain": [
              "array(['masters degree', 'secondary education', 'bachelor degree',\n",
              "       'primary education', 'academic degree'], dtype=object)"
            ]
          },
          "execution_count": 8,
          "metadata": {},
          "output_type": "execute_result"
        }
      ],
      "source": [
        "df['education'] = df['education'].str.lower()\n",
        "df['education'].unique()"
      ]
    },
    {
      "attachments": {},
      "cell_type": "markdown",
      "metadata": {
        "id": "2NoapNAnJ_Vv"
      },
      "source": [
        "**Filtrando Tabla**\n",
        "\n",
        "Una vez limpios nuestros datos haremos un filtro para conocer los valores ausentes en el nivel de educación secundaria"
      ]
    },
    {
      "cell_type": "code",
      "execution_count": 9,
      "metadata": {
        "colab": {
          "base_uri": "https://localhost:8080/"
        },
        "id": "j-iJNwNHJ_Vv",
        "outputId": "56df10c3-d53e-496f-faed-05c02c0ed794",
        "scrolled": false
      },
      "outputs": [
        {
          "data": {
            "text/plain": [
              "days_employed\n",
              " NaN              1540\n",
              "-4024.803754         1\n",
              " 400147.947311       1\n",
              "-3507.818775         1\n",
              "-635.915050          1\n",
              "                  ... \n",
              "-5730.178239         1\n",
              "-429.448441          1\n",
              "-1613.140030         1\n",
              "-452.930653          1\n",
              "-1984.507589         1\n",
              "Name: count, Length: 13694, dtype: int64"
            ]
          },
          "execution_count": 9,
          "metadata": {},
          "output_type": "execute_result"
        }
      ],
      "source": [
        "df[df['education'] == 'secondary education']['days_employed'].value_counts(dropna=False)"
      ]
    },
    {
      "attachments": {},
      "cell_type": "markdown",
      "metadata": {
        "id": "7W6AjkCaJ_Vv"
      },
      "source": [
        "Nuestros datos nos indican que existen un total de **13,694** registros de nivel de **educación secundaria**, de los cuales hay un total de 1,540 datos sobre los valores ausentes, ahora, comprobemos la distribución entre los datos ausentes de nivel secundaria y el total de clientes."
      ]
    },
    {
      "cell_type": "code",
      "execution_count": 10,
      "metadata": {
        "colab": {
          "base_uri": "https://localhost:8080/",
          "height": 35
        },
        "id": "jKdrKVxtJ_Vv",
        "outputId": "af35c2f2-b285-43f6-9726-9991194d73d7",
        "scrolled": false
      },
      "outputs": [
        {
          "data": {
            "text/plain": [
              "'Porcentaje de distribución del bajo nivel educativo es de: 71%'"
            ]
          },
          "execution_count": 10,
          "metadata": {},
          "output_type": "execute_result"
        }
      ],
      "source": [
        "nan_data = 2174\n",
        "nan_sec_edu = 1540\n",
        "\n",
        "total_dis = nan_sec_edu / nan_data\n",
        "f'Porcentaje de distribución del bajo nivel educativo es de: {(total_dis):.0%}'"
      ]
    },
    {
      "attachments": {},
      "cell_type": "markdown",
      "metadata": {
        "id": "iF0LdYuPJ_Vv"
      },
      "source": [
        "**Posibles razones por las que hay valores ausentes en los datos**\n",
        "\n",
        "El resultado nos muestra que un 71% de los valores ausentes proviene de clientes que tienen un bajo nivel educativo. Esto se acerca más a nuestra teoría de que sean clientes desempleados y/o tengan empleos informales. \n",
        "\n",
        "Sin embargo esto no cubre el 10% de los valores ausentes por lo cuál no podemos definir si se trata de un patrón exacto o son valores aleatorios. Vamos a comprobar si nuestros valores ausentes son al azar o hay un patrón con esto.\n"
      ]
    },
    {
      "cell_type": "code",
      "execution_count": 11,
      "metadata": {
        "colab": {
          "base_uri": "https://localhost:8080/",
          "height": 35
        },
        "id": "x1GWlmQqJ_Vw",
        "outputId": "62c8a18e-f837-4d4a-ab01-a570f138f4b3"
      },
      "outputs": [
        {
          "data": {
            "text/plain": [
              "'La distribución del conjunto de datos entero es: 10%'"
            ]
          },
          "execution_count": 11,
          "metadata": {},
          "output_type": "execute_result"
        }
      ],
      "source": [
        "# Comprobando la distribución en el conjunto de datos entero\n",
        "totaldata = len(df)\n",
        "nan_data = 2174\n",
        "\n",
        "distribution = nan_data / totaldata\n",
        "f'La distribución del conjunto de datos entero es: {(distribution):.0%}'"
      ]
    },
    {
      "attachments": {},
      "cell_type": "markdown",
      "metadata": {
        "id": "vbWaOefhJ_Vw"
      },
      "source": [
        "Podemos ver que la distribución de ambos conjuntos es muy diferente, esto significa que no se cubre el 100% de los valores ausentes en nuestra tabla filtrada lo cual quiere decir que, aunque se aproxima, no existe una relación entre los valores ausentes y el nivel de educación.\n",
        "\n",
        "**Supuesto 2**\n",
        "\n",
        "Vamos a tomar otra columna para conocer si hay alguna otra relación con ella o descartarla. Ahora tomaremos la columna de `income_type`. Se piensa que el tipo de empleo puede ser otro factor por el cual un cliente no tendría experiencia laboral y tampoco reciba ingresos. Por ejemplo algunos que estén retirados o se encuentren desempleados, vamos a explorar un poco en ello."
      ]
    },
    {
      "attachments": {},
      "cell_type": "markdown",
      "metadata": {
        "id": "bqiR9i2gZ0a9"
      },
      "source": [
        "**Revisando distribución de clientes por ingreso**"
      ]
    },
    {
      "cell_type": "code",
      "execution_count": 12,
      "metadata": {
        "colab": {
          "base_uri": "https://localhost:8080/"
        },
        "id": "kM5ixFCkJ_Vw",
        "outputId": "beea72ad-0029-42e0-aa13-8d8499b3aa81"
      },
      "outputs": [
        {
          "data": {
            "text/plain": [
              "0"
            ]
          },
          "execution_count": 12,
          "metadata": {},
          "output_type": "execute_result"
        }
      ],
      "source": [
        "df['income_type'].isna().sum()"
      ]
    },
    {
      "cell_type": "code",
      "execution_count": 13,
      "metadata": {
        "colab": {
          "base_uri": "https://localhost:8080/"
        },
        "id": "2HK5LcPIJ_V1",
        "outputId": "f577096e-f267-48b6-d414-fca6dbb466cd",
        "scrolled": true
      },
      "outputs": [
        {
          "data": {
            "text/plain": [
              "income_type\n",
              "employee                       11119\n",
              "partner                         5085\n",
              "retiree                         3856\n",
              "civil servant                   1459\n",
              "unempoyed                          2\n",
              "entrepreneur                       2\n",
              "student                            1\n",
              "paternity / maternity leave        1\n",
              "Name: count, dtype: int64"
            ]
          },
          "execution_count": 13,
          "metadata": {},
          "output_type": "execute_result"
        }
      ],
      "source": [
        "df['income_type'].value_counts(dropna=False)"
      ]
    },
    {
      "attachments": {},
      "cell_type": "markdown",
      "metadata": {
        "id": "1GoyC5l1Z_rU"
      },
      "source": [
        "**Analizando valores ausentes**\n",
        "\n",
        "Hagamos un filtro entre el tipo de empleo y los clientes cuyo estatus actual se encuentran retiradas"
      ]
    },
    {
      "cell_type": "code",
      "execution_count": 14,
      "metadata": {
        "colab": {
          "base_uri": "https://localhost:8080/",
          "height": 424
        },
        "id": "Ygs_xXFEJ_V1",
        "outputId": "995e0278-1782-4a44-d4b2-505b3a6c94db",
        "scrolled": true
      },
      "outputs": [
        {
          "data": {
            "text/html": [
              "<div>\n",
              "<style scoped>\n",
              "    .dataframe tbody tr th:only-of-type {\n",
              "        vertical-align: middle;\n",
              "    }\n",
              "\n",
              "    .dataframe tbody tr th {\n",
              "        vertical-align: top;\n",
              "    }\n",
              "\n",
              "    .dataframe thead th {\n",
              "        text-align: right;\n",
              "    }\n",
              "</style>\n",
              "<table border=\"1\" class=\"dataframe\">\n",
              "  <thead>\n",
              "    <tr style=\"text-align: right;\">\n",
              "      <th></th>\n",
              "      <th>children</th>\n",
              "      <th>days_employed</th>\n",
              "      <th>dob_years</th>\n",
              "      <th>education</th>\n",
              "      <th>education_id</th>\n",
              "      <th>family_status</th>\n",
              "      <th>family_status_id</th>\n",
              "      <th>gender</th>\n",
              "      <th>income_type</th>\n",
              "      <th>debt</th>\n",
              "      <th>total_income</th>\n",
              "      <th>purpose</th>\n",
              "    </tr>\n",
              "  </thead>\n",
              "  <tbody>\n",
              "    <tr>\n",
              "      <th>12</th>\n",
              "      <td>0</td>\n",
              "      <td>NaN</td>\n",
              "      <td>65</td>\n",
              "      <td>secondary education</td>\n",
              "      <td>1</td>\n",
              "      <td>civil partnership</td>\n",
              "      <td>1</td>\n",
              "      <td>M</td>\n",
              "      <td>retiree</td>\n",
              "      <td>0</td>\n",
              "      <td>NaN</td>\n",
              "      <td>to have a wedding</td>\n",
              "    </tr>\n",
              "    <tr>\n",
              "      <th>29</th>\n",
              "      <td>0</td>\n",
              "      <td>NaN</td>\n",
              "      <td>63</td>\n",
              "      <td>secondary education</td>\n",
              "      <td>1</td>\n",
              "      <td>unmarried</td>\n",
              "      <td>4</td>\n",
              "      <td>F</td>\n",
              "      <td>retiree</td>\n",
              "      <td>0</td>\n",
              "      <td>NaN</td>\n",
              "      <td>building a real estate</td>\n",
              "    </tr>\n",
              "    <tr>\n",
              "      <th>55</th>\n",
              "      <td>0</td>\n",
              "      <td>NaN</td>\n",
              "      <td>54</td>\n",
              "      <td>secondary education</td>\n",
              "      <td>1</td>\n",
              "      <td>civil partnership</td>\n",
              "      <td>1</td>\n",
              "      <td>F</td>\n",
              "      <td>retiree</td>\n",
              "      <td>1</td>\n",
              "      <td>NaN</td>\n",
              "      <td>to have a wedding</td>\n",
              "    </tr>\n",
              "    <tr>\n",
              "      <th>67</th>\n",
              "      <td>0</td>\n",
              "      <td>NaN</td>\n",
              "      <td>52</td>\n",
              "      <td>masters degree</td>\n",
              "      <td>0</td>\n",
              "      <td>married</td>\n",
              "      <td>0</td>\n",
              "      <td>F</td>\n",
              "      <td>retiree</td>\n",
              "      <td>0</td>\n",
              "      <td>NaN</td>\n",
              "      <td>purchase of the house for my family</td>\n",
              "    </tr>\n",
              "    <tr>\n",
              "      <th>145</th>\n",
              "      <td>0</td>\n",
              "      <td>NaN</td>\n",
              "      <td>62</td>\n",
              "      <td>secondary education</td>\n",
              "      <td>1</td>\n",
              "      <td>married</td>\n",
              "      <td>0</td>\n",
              "      <td>M</td>\n",
              "      <td>retiree</td>\n",
              "      <td>0</td>\n",
              "      <td>NaN</td>\n",
              "      <td>building a property</td>\n",
              "    </tr>\n",
              "    <tr>\n",
              "      <th>...</th>\n",
              "      <td>...</td>\n",
              "      <td>...</td>\n",
              "      <td>...</td>\n",
              "      <td>...</td>\n",
              "      <td>...</td>\n",
              "      <td>...</td>\n",
              "      <td>...</td>\n",
              "      <td>...</td>\n",
              "      <td>...</td>\n",
              "      <td>...</td>\n",
              "      <td>...</td>\n",
              "      <td>...</td>\n",
              "    </tr>\n",
              "    <tr>\n",
              "      <th>21311</th>\n",
              "      <td>0</td>\n",
              "      <td>NaN</td>\n",
              "      <td>49</td>\n",
              "      <td>secondary education</td>\n",
              "      <td>1</td>\n",
              "      <td>married</td>\n",
              "      <td>0</td>\n",
              "      <td>F</td>\n",
              "      <td>retiree</td>\n",
              "      <td>0</td>\n",
              "      <td>NaN</td>\n",
              "      <td>buying property for renting out</td>\n",
              "    </tr>\n",
              "    <tr>\n",
              "      <th>21321</th>\n",
              "      <td>0</td>\n",
              "      <td>NaN</td>\n",
              "      <td>56</td>\n",
              "      <td>secondary education</td>\n",
              "      <td>1</td>\n",
              "      <td>married</td>\n",
              "      <td>0</td>\n",
              "      <td>F</td>\n",
              "      <td>retiree</td>\n",
              "      <td>0</td>\n",
              "      <td>NaN</td>\n",
              "      <td>real estate transactions</td>\n",
              "    </tr>\n",
              "    <tr>\n",
              "      <th>21414</th>\n",
              "      <td>0</td>\n",
              "      <td>NaN</td>\n",
              "      <td>65</td>\n",
              "      <td>secondary education</td>\n",
              "      <td>1</td>\n",
              "      <td>married</td>\n",
              "      <td>0</td>\n",
              "      <td>F</td>\n",
              "      <td>retiree</td>\n",
              "      <td>0</td>\n",
              "      <td>NaN</td>\n",
              "      <td>purchase of my own house</td>\n",
              "    </tr>\n",
              "    <tr>\n",
              "      <th>21415</th>\n",
              "      <td>0</td>\n",
              "      <td>NaN</td>\n",
              "      <td>54</td>\n",
              "      <td>secondary education</td>\n",
              "      <td>1</td>\n",
              "      <td>married</td>\n",
              "      <td>0</td>\n",
              "      <td>F</td>\n",
              "      <td>retiree</td>\n",
              "      <td>0</td>\n",
              "      <td>NaN</td>\n",
              "      <td>housing transactions</td>\n",
              "    </tr>\n",
              "    <tr>\n",
              "      <th>21423</th>\n",
              "      <td>0</td>\n",
              "      <td>NaN</td>\n",
              "      <td>63</td>\n",
              "      <td>secondary education</td>\n",
              "      <td>1</td>\n",
              "      <td>married</td>\n",
              "      <td>0</td>\n",
              "      <td>M</td>\n",
              "      <td>retiree</td>\n",
              "      <td>0</td>\n",
              "      <td>NaN</td>\n",
              "      <td>purchase of a car</td>\n",
              "    </tr>\n",
              "  </tbody>\n",
              "</table>\n",
              "<p>413 rows × 12 columns</p>\n",
              "</div>"
            ],
            "text/plain": [
              "       children  days_employed  dob_years            education  education_id  \\\n",
              "12            0            NaN         65  secondary education             1   \n",
              "29            0            NaN         63  secondary education             1   \n",
              "55            0            NaN         54  secondary education             1   \n",
              "67            0            NaN         52       masters degree             0   \n",
              "145           0            NaN         62  secondary education             1   \n",
              "...         ...            ...        ...                  ...           ...   \n",
              "21311         0            NaN         49  secondary education             1   \n",
              "21321         0            NaN         56  secondary education             1   \n",
              "21414         0            NaN         65  secondary education             1   \n",
              "21415         0            NaN         54  secondary education             1   \n",
              "21423         0            NaN         63  secondary education             1   \n",
              "\n",
              "           family_status  family_status_id gender income_type  debt  \\\n",
              "12     civil partnership                 1      M     retiree     0   \n",
              "29             unmarried                 4      F     retiree     0   \n",
              "55     civil partnership                 1      F     retiree     1   \n",
              "67               married                 0      F     retiree     0   \n",
              "145              married                 0      M     retiree     0   \n",
              "...                  ...               ...    ...         ...   ...   \n",
              "21311            married                 0      F     retiree     0   \n",
              "21321            married                 0      F     retiree     0   \n",
              "21414            married                 0      F     retiree     0   \n",
              "21415            married                 0      F     retiree     0   \n",
              "21423            married                 0      M     retiree     0   \n",
              "\n",
              "       total_income                              purpose  \n",
              "12              NaN                    to have a wedding  \n",
              "29              NaN               building a real estate  \n",
              "55              NaN                    to have a wedding  \n",
              "67              NaN  purchase of the house for my family  \n",
              "145             NaN                  building a property  \n",
              "...             ...                                  ...  \n",
              "21311           NaN      buying property for renting out  \n",
              "21321           NaN             real estate transactions  \n",
              "21414           NaN             purchase of my own house  \n",
              "21415           NaN                 housing transactions  \n",
              "21423           NaN                    purchase of a car  \n",
              "\n",
              "[413 rows x 12 columns]"
            ]
          },
          "execution_count": 14,
          "metadata": {},
          "output_type": "execute_result"
        }
      ],
      "source": [
        "df[(df['days_employed'].isna()) & (df['income_type'] == 'retiree')]"
      ]
    },
    {
      "attachments": {},
      "cell_type": "markdown",
      "metadata": {
        "id": "YiTig0RkJ_V1"
      },
      "source": [
        "Con estos datos nos damos cuenta de que solo 413 personas están retiradas y esto justificaría la falta de días de experiencia laboral; sin embargo en el resto de valores los clientes cuentan con un empleo en la actualidad, lo cual no justifica la falta de estos valores, vamos a ver si existe algún otro valor de desempleo para conocer esta relación, para ello, tomaremos la columna `employee` en esta ocasión."
      ]
    },
    {
      "cell_type": "code",
      "execution_count": 15,
      "metadata": {
        "colab": {
          "base_uri": "https://localhost:8080/",
          "height": 424
        },
        "id": "-lnQhVC5J_V1",
        "outputId": "66d4ca19-0ae4-4cd4-aa29-dcbe28279bfb",
        "scrolled": true
      },
      "outputs": [
        {
          "data": {
            "text/html": [
              "<div>\n",
              "<style scoped>\n",
              "    .dataframe tbody tr th:only-of-type {\n",
              "        vertical-align: middle;\n",
              "    }\n",
              "\n",
              "    .dataframe tbody tr th {\n",
              "        vertical-align: top;\n",
              "    }\n",
              "\n",
              "    .dataframe thead th {\n",
              "        text-align: right;\n",
              "    }\n",
              "</style>\n",
              "<table border=\"1\" class=\"dataframe\">\n",
              "  <thead>\n",
              "    <tr style=\"text-align: right;\">\n",
              "      <th></th>\n",
              "      <th>children</th>\n",
              "      <th>days_employed</th>\n",
              "      <th>dob_years</th>\n",
              "      <th>education</th>\n",
              "      <th>education_id</th>\n",
              "      <th>family_status</th>\n",
              "      <th>family_status_id</th>\n",
              "      <th>gender</th>\n",
              "      <th>income_type</th>\n",
              "      <th>debt</th>\n",
              "      <th>total_income</th>\n",
              "      <th>purpose</th>\n",
              "    </tr>\n",
              "  </thead>\n",
              "  <tbody>\n",
              "    <tr>\n",
              "      <th>82</th>\n",
              "      <td>2</td>\n",
              "      <td>NaN</td>\n",
              "      <td>50</td>\n",
              "      <td>masters degree</td>\n",
              "      <td>0</td>\n",
              "      <td>married</td>\n",
              "      <td>0</td>\n",
              "      <td>F</td>\n",
              "      <td>employee</td>\n",
              "      <td>0</td>\n",
              "      <td>NaN</td>\n",
              "      <td>housing</td>\n",
              "    </tr>\n",
              "    <tr>\n",
              "      <th>83</th>\n",
              "      <td>0</td>\n",
              "      <td>NaN</td>\n",
              "      <td>52</td>\n",
              "      <td>secondary education</td>\n",
              "      <td>1</td>\n",
              "      <td>married</td>\n",
              "      <td>0</td>\n",
              "      <td>M</td>\n",
              "      <td>employee</td>\n",
              "      <td>0</td>\n",
              "      <td>NaN</td>\n",
              "      <td>housing</td>\n",
              "    </tr>\n",
              "    <tr>\n",
              "      <th>90</th>\n",
              "      <td>2</td>\n",
              "      <td>NaN</td>\n",
              "      <td>35</td>\n",
              "      <td>masters degree</td>\n",
              "      <td>0</td>\n",
              "      <td>married</td>\n",
              "      <td>0</td>\n",
              "      <td>F</td>\n",
              "      <td>employee</td>\n",
              "      <td>0</td>\n",
              "      <td>NaN</td>\n",
              "      <td>housing transactions</td>\n",
              "    </tr>\n",
              "    <tr>\n",
              "      <th>96</th>\n",
              "      <td>0</td>\n",
              "      <td>NaN</td>\n",
              "      <td>44</td>\n",
              "      <td>secondary education</td>\n",
              "      <td>1</td>\n",
              "      <td>married</td>\n",
              "      <td>0</td>\n",
              "      <td>F</td>\n",
              "      <td>employee</td>\n",
              "      <td>0</td>\n",
              "      <td>NaN</td>\n",
              "      <td>buy residential real estate</td>\n",
              "    </tr>\n",
              "    <tr>\n",
              "      <th>97</th>\n",
              "      <td>0</td>\n",
              "      <td>NaN</td>\n",
              "      <td>47</td>\n",
              "      <td>masters degree</td>\n",
              "      <td>0</td>\n",
              "      <td>married</td>\n",
              "      <td>0</td>\n",
              "      <td>F</td>\n",
              "      <td>employee</td>\n",
              "      <td>0</td>\n",
              "      <td>NaN</td>\n",
              "      <td>profile education</td>\n",
              "    </tr>\n",
              "    <tr>\n",
              "      <th>...</th>\n",
              "      <td>...</td>\n",
              "      <td>...</td>\n",
              "      <td>...</td>\n",
              "      <td>...</td>\n",
              "      <td>...</td>\n",
              "      <td>...</td>\n",
              "      <td>...</td>\n",
              "      <td>...</td>\n",
              "      <td>...</td>\n",
              "      <td>...</td>\n",
              "      <td>...</td>\n",
              "      <td>...</td>\n",
              "    </tr>\n",
              "    <tr>\n",
              "      <th>21432</th>\n",
              "      <td>1</td>\n",
              "      <td>NaN</td>\n",
              "      <td>38</td>\n",
              "      <td>bachelor degree</td>\n",
              "      <td>2</td>\n",
              "      <td>unmarried</td>\n",
              "      <td>4</td>\n",
              "      <td>F</td>\n",
              "      <td>employee</td>\n",
              "      <td>0</td>\n",
              "      <td>NaN</td>\n",
              "      <td>housing transactions</td>\n",
              "    </tr>\n",
              "    <tr>\n",
              "      <th>21463</th>\n",
              "      <td>1</td>\n",
              "      <td>NaN</td>\n",
              "      <td>35</td>\n",
              "      <td>masters degree</td>\n",
              "      <td>0</td>\n",
              "      <td>civil partnership</td>\n",
              "      <td>1</td>\n",
              "      <td>M</td>\n",
              "      <td>employee</td>\n",
              "      <td>0</td>\n",
              "      <td>NaN</td>\n",
              "      <td>having a wedding</td>\n",
              "    </tr>\n",
              "    <tr>\n",
              "      <th>21495</th>\n",
              "      <td>1</td>\n",
              "      <td>NaN</td>\n",
              "      <td>50</td>\n",
              "      <td>secondary education</td>\n",
              "      <td>1</td>\n",
              "      <td>civil partnership</td>\n",
              "      <td>1</td>\n",
              "      <td>F</td>\n",
              "      <td>employee</td>\n",
              "      <td>0</td>\n",
              "      <td>NaN</td>\n",
              "      <td>wedding ceremony</td>\n",
              "    </tr>\n",
              "    <tr>\n",
              "      <th>21502</th>\n",
              "      <td>1</td>\n",
              "      <td>NaN</td>\n",
              "      <td>42</td>\n",
              "      <td>secondary education</td>\n",
              "      <td>1</td>\n",
              "      <td>married</td>\n",
              "      <td>0</td>\n",
              "      <td>F</td>\n",
              "      <td>employee</td>\n",
              "      <td>0</td>\n",
              "      <td>NaN</td>\n",
              "      <td>building a real estate</td>\n",
              "    </tr>\n",
              "    <tr>\n",
              "      <th>21510</th>\n",
              "      <td>2</td>\n",
              "      <td>NaN</td>\n",
              "      <td>28</td>\n",
              "      <td>secondary education</td>\n",
              "      <td>1</td>\n",
              "      <td>married</td>\n",
              "      <td>0</td>\n",
              "      <td>F</td>\n",
              "      <td>employee</td>\n",
              "      <td>0</td>\n",
              "      <td>NaN</td>\n",
              "      <td>car purchase</td>\n",
              "    </tr>\n",
              "  </tbody>\n",
              "</table>\n",
              "<p>1105 rows × 12 columns</p>\n",
              "</div>"
            ],
            "text/plain": [
              "       children  days_employed  dob_years            education  education_id  \\\n",
              "82            2            NaN         50       masters degree             0   \n",
              "83            0            NaN         52  secondary education             1   \n",
              "90            2            NaN         35       masters degree             0   \n",
              "96            0            NaN         44  secondary education             1   \n",
              "97            0            NaN         47       masters degree             0   \n",
              "...         ...            ...        ...                  ...           ...   \n",
              "21432         1            NaN         38      bachelor degree             2   \n",
              "21463         1            NaN         35       masters degree             0   \n",
              "21495         1            NaN         50  secondary education             1   \n",
              "21502         1            NaN         42  secondary education             1   \n",
              "21510         2            NaN         28  secondary education             1   \n",
              "\n",
              "           family_status  family_status_id gender income_type  debt  \\\n",
              "82               married                 0      F    employee     0   \n",
              "83               married                 0      M    employee     0   \n",
              "90               married                 0      F    employee     0   \n",
              "96               married                 0      F    employee     0   \n",
              "97               married                 0      F    employee     0   \n",
              "...                  ...               ...    ...         ...   ...   \n",
              "21432          unmarried                 4      F    employee     0   \n",
              "21463  civil partnership                 1      M    employee     0   \n",
              "21495  civil partnership                 1      F    employee     0   \n",
              "21502            married                 0      F    employee     0   \n",
              "21510            married                 0      F    employee     0   \n",
              "\n",
              "       total_income                      purpose  \n",
              "82              NaN                      housing  \n",
              "83              NaN                      housing  \n",
              "90              NaN         housing transactions  \n",
              "96              NaN  buy residential real estate  \n",
              "97              NaN            profile education  \n",
              "...             ...                          ...  \n",
              "21432           NaN         housing transactions  \n",
              "21463           NaN             having a wedding  \n",
              "21495           NaN             wedding ceremony  \n",
              "21502           NaN       building a real estate  \n",
              "21510           NaN                 car purchase  \n",
              "\n",
              "[1105 rows x 12 columns]"
            ]
          },
          "execution_count": 15,
          "metadata": {},
          "output_type": "execute_result"
        }
      ],
      "source": [
        "df[(df['days_employed'].isna()) & (df['income_type'] == 'employee')]"
      ]
    },
    {
      "attachments": {},
      "cell_type": "markdown",
      "metadata": {
        "id": "0-5aymgpJ_V1"
      },
      "source": [
        "Podemos ver que existen solo 1,105 datos de los 2,174 ausentes. Podemos concluir entonces que es posible que haya ocurrido un error al ingresar los datos o que los clientes no hayan querido responder a estos valores por cuestiones de tipo emocional ya sea miedo o timidez pero no podemos saberlo porque no existe algún otro patrón en específico que nos lo indíque. En general no existen patrones que nos puedan indicar la aparición de estos valores ausentes."
      ]
    },
    {
      "attachments": {},
      "cell_type": "markdown",
      "metadata": {
        "id": "Y3nth2HtJ_V2"
      },
      "source": [
        "**Comparación**\n",
        "\n",
        "A continuación vamos a crear una visión general de dos dataframes, una con los datos nulos y otra sin ellos para poder visualizar sus distribuciones."
      ]
    },
    {
      "cell_type": "code",
      "execution_count": 16,
      "metadata": {
        "colab": {
          "base_uri": "https://localhost:8080/",
          "height": 300
        },
        "id": "o_gZTUmIJ_V2",
        "outputId": "f63a8e06-d800-4a95-c039-c69e92be7397"
      },
      "outputs": [
        {
          "data": {
            "text/html": [
              "<div>\n",
              "<style scoped>\n",
              "    .dataframe tbody tr th:only-of-type {\n",
              "        vertical-align: middle;\n",
              "    }\n",
              "\n",
              "    .dataframe tbody tr th {\n",
              "        vertical-align: top;\n",
              "    }\n",
              "\n",
              "    .dataframe thead th {\n",
              "        text-align: right;\n",
              "    }\n",
              "</style>\n",
              "<table border=\"1\" class=\"dataframe\">\n",
              "  <thead>\n",
              "    <tr style=\"text-align: right;\">\n",
              "      <th></th>\n",
              "      <th>children</th>\n",
              "      <th>days_employed</th>\n",
              "      <th>dob_years</th>\n",
              "      <th>education_id</th>\n",
              "      <th>family_status_id</th>\n",
              "      <th>debt</th>\n",
              "      <th>total_income</th>\n",
              "    </tr>\n",
              "  </thead>\n",
              "  <tbody>\n",
              "    <tr>\n",
              "      <th>count</th>\n",
              "      <td>21525.000000</td>\n",
              "      <td>19351.000000</td>\n",
              "      <td>21525.000000</td>\n",
              "      <td>21525.000000</td>\n",
              "      <td>21525.000000</td>\n",
              "      <td>21525.000000</td>\n",
              "      <td>1.935100e+04</td>\n",
              "    </tr>\n",
              "    <tr>\n",
              "      <th>mean</th>\n",
              "      <td>0.538908</td>\n",
              "      <td>63046.497661</td>\n",
              "      <td>43.293380</td>\n",
              "      <td>0.817236</td>\n",
              "      <td>0.972544</td>\n",
              "      <td>0.080883</td>\n",
              "      <td>1.674223e+05</td>\n",
              "    </tr>\n",
              "    <tr>\n",
              "      <th>std</th>\n",
              "      <td>1.381587</td>\n",
              "      <td>140827.311974</td>\n",
              "      <td>12.574584</td>\n",
              "      <td>0.548138</td>\n",
              "      <td>1.420324</td>\n",
              "      <td>0.272661</td>\n",
              "      <td>1.029716e+05</td>\n",
              "    </tr>\n",
              "    <tr>\n",
              "      <th>min</th>\n",
              "      <td>-1.000000</td>\n",
              "      <td>-18388.949901</td>\n",
              "      <td>0.000000</td>\n",
              "      <td>0.000000</td>\n",
              "      <td>0.000000</td>\n",
              "      <td>0.000000</td>\n",
              "      <td>2.066726e+04</td>\n",
              "    </tr>\n",
              "    <tr>\n",
              "      <th>25%</th>\n",
              "      <td>0.000000</td>\n",
              "      <td>-2747.423625</td>\n",
              "      <td>33.000000</td>\n",
              "      <td>1.000000</td>\n",
              "      <td>0.000000</td>\n",
              "      <td>0.000000</td>\n",
              "      <td>1.030532e+05</td>\n",
              "    </tr>\n",
              "    <tr>\n",
              "      <th>50%</th>\n",
              "      <td>0.000000</td>\n",
              "      <td>-1203.369529</td>\n",
              "      <td>42.000000</td>\n",
              "      <td>1.000000</td>\n",
              "      <td>0.000000</td>\n",
              "      <td>0.000000</td>\n",
              "      <td>1.450179e+05</td>\n",
              "    </tr>\n",
              "    <tr>\n",
              "      <th>75%</th>\n",
              "      <td>1.000000</td>\n",
              "      <td>-291.095954</td>\n",
              "      <td>53.000000</td>\n",
              "      <td>1.000000</td>\n",
              "      <td>1.000000</td>\n",
              "      <td>0.000000</td>\n",
              "      <td>2.034351e+05</td>\n",
              "    </tr>\n",
              "    <tr>\n",
              "      <th>max</th>\n",
              "      <td>20.000000</td>\n",
              "      <td>401755.400475</td>\n",
              "      <td>75.000000</td>\n",
              "      <td>4.000000</td>\n",
              "      <td>4.000000</td>\n",
              "      <td>1.000000</td>\n",
              "      <td>2.265604e+06</td>\n",
              "    </tr>\n",
              "  </tbody>\n",
              "</table>\n",
              "</div>"
            ],
            "text/plain": [
              "           children  days_employed     dob_years  education_id  \\\n",
              "count  21525.000000   19351.000000  21525.000000  21525.000000   \n",
              "mean       0.538908   63046.497661     43.293380      0.817236   \n",
              "std        1.381587  140827.311974     12.574584      0.548138   \n",
              "min       -1.000000  -18388.949901      0.000000      0.000000   \n",
              "25%        0.000000   -2747.423625     33.000000      1.000000   \n",
              "50%        0.000000   -1203.369529     42.000000      1.000000   \n",
              "75%        1.000000    -291.095954     53.000000      1.000000   \n",
              "max       20.000000  401755.400475     75.000000      4.000000   \n",
              "\n",
              "       family_status_id          debt  total_income  \n",
              "count      21525.000000  21525.000000  1.935100e+04  \n",
              "mean           0.972544      0.080883  1.674223e+05  \n",
              "std            1.420324      0.272661  1.029716e+05  \n",
              "min            0.000000      0.000000  2.066726e+04  \n",
              "25%            0.000000      0.000000  1.030532e+05  \n",
              "50%            0.000000      0.000000  1.450179e+05  \n",
              "75%            1.000000      0.000000  2.034351e+05  \n",
              "max            4.000000      1.000000  2.265604e+06  "
            ]
          },
          "execution_count": 16,
          "metadata": {},
          "output_type": "execute_result"
        }
      ],
      "source": [
        "#DataFrame con valores ausentes\n",
        "df.describe()"
      ]
    },
    {
      "cell_type": "code",
      "execution_count": 17,
      "metadata": {
        "colab": {
          "base_uri": "https://localhost:8080/",
          "height": 300
        },
        "id": "zUweXDAjJ_V2",
        "outputId": "749b5505-9dbb-4016-f12f-72e6ce97e2bc"
      },
      "outputs": [
        {
          "data": {
            "text/html": [
              "<div>\n",
              "<style scoped>\n",
              "    .dataframe tbody tr th:only-of-type {\n",
              "        vertical-align: middle;\n",
              "    }\n",
              "\n",
              "    .dataframe tbody tr th {\n",
              "        vertical-align: top;\n",
              "    }\n",
              "\n",
              "    .dataframe thead th {\n",
              "        text-align: right;\n",
              "    }\n",
              "</style>\n",
              "<table border=\"1\" class=\"dataframe\">\n",
              "  <thead>\n",
              "    <tr style=\"text-align: right;\">\n",
              "      <th></th>\n",
              "      <th>children</th>\n",
              "      <th>days_employed</th>\n",
              "      <th>dob_years</th>\n",
              "      <th>education_id</th>\n",
              "      <th>family_status_id</th>\n",
              "      <th>debt</th>\n",
              "      <th>total_income</th>\n",
              "    </tr>\n",
              "  </thead>\n",
              "  <tbody>\n",
              "    <tr>\n",
              "      <th>count</th>\n",
              "      <td>19351.000000</td>\n",
              "      <td>19351.000000</td>\n",
              "      <td>19351.000000</td>\n",
              "      <td>19351.000000</td>\n",
              "      <td>19351.000000</td>\n",
              "      <td>19351.000000</td>\n",
              "      <td>1.935100e+04</td>\n",
              "    </tr>\n",
              "    <tr>\n",
              "      <th>mean</th>\n",
              "      <td>0.537388</td>\n",
              "      <td>63046.497661</td>\n",
              "      <td>43.255336</td>\n",
              "      <td>0.819079</td>\n",
              "      <td>0.972249</td>\n",
              "      <td>0.081184</td>\n",
              "      <td>1.674223e+05</td>\n",
              "    </tr>\n",
              "    <tr>\n",
              "      <th>std</th>\n",
              "      <td>1.371408</td>\n",
              "      <td>140827.311974</td>\n",
              "      <td>12.579170</td>\n",
              "      <td>0.550104</td>\n",
              "      <td>1.420596</td>\n",
              "      <td>0.273125</td>\n",
              "      <td>1.029716e+05</td>\n",
              "    </tr>\n",
              "    <tr>\n",
              "      <th>min</th>\n",
              "      <td>-1.000000</td>\n",
              "      <td>-18388.949901</td>\n",
              "      <td>0.000000</td>\n",
              "      <td>0.000000</td>\n",
              "      <td>0.000000</td>\n",
              "      <td>0.000000</td>\n",
              "      <td>2.066726e+04</td>\n",
              "    </tr>\n",
              "    <tr>\n",
              "      <th>25%</th>\n",
              "      <td>0.000000</td>\n",
              "      <td>-2747.423625</td>\n",
              "      <td>33.000000</td>\n",
              "      <td>1.000000</td>\n",
              "      <td>0.000000</td>\n",
              "      <td>0.000000</td>\n",
              "      <td>1.030532e+05</td>\n",
              "    </tr>\n",
              "    <tr>\n",
              "      <th>50%</th>\n",
              "      <td>0.000000</td>\n",
              "      <td>-1203.369529</td>\n",
              "      <td>42.000000</td>\n",
              "      <td>1.000000</td>\n",
              "      <td>0.000000</td>\n",
              "      <td>0.000000</td>\n",
              "      <td>1.450179e+05</td>\n",
              "    </tr>\n",
              "    <tr>\n",
              "      <th>75%</th>\n",
              "      <td>1.000000</td>\n",
              "      <td>-291.095954</td>\n",
              "      <td>53.000000</td>\n",
              "      <td>1.000000</td>\n",
              "      <td>1.000000</td>\n",
              "      <td>0.000000</td>\n",
              "      <td>2.034351e+05</td>\n",
              "    </tr>\n",
              "    <tr>\n",
              "      <th>max</th>\n",
              "      <td>20.000000</td>\n",
              "      <td>401755.400475</td>\n",
              "      <td>75.000000</td>\n",
              "      <td>4.000000</td>\n",
              "      <td>4.000000</td>\n",
              "      <td>1.000000</td>\n",
              "      <td>2.265604e+06</td>\n",
              "    </tr>\n",
              "  </tbody>\n",
              "</table>\n",
              "</div>"
            ],
            "text/plain": [
              "           children  days_employed     dob_years  education_id  \\\n",
              "count  19351.000000   19351.000000  19351.000000  19351.000000   \n",
              "mean       0.537388   63046.497661     43.255336      0.819079   \n",
              "std        1.371408  140827.311974     12.579170      0.550104   \n",
              "min       -1.000000  -18388.949901      0.000000      0.000000   \n",
              "25%        0.000000   -2747.423625     33.000000      1.000000   \n",
              "50%        0.000000   -1203.369529     42.000000      1.000000   \n",
              "75%        1.000000    -291.095954     53.000000      1.000000   \n",
              "max       20.000000  401755.400475     75.000000      4.000000   \n",
              "\n",
              "       family_status_id          debt  total_income  \n",
              "count      19351.000000  19351.000000  1.935100e+04  \n",
              "mean           0.972249      0.081184  1.674223e+05  \n",
              "std            1.420596      0.273125  1.029716e+05  \n",
              "min            0.000000      0.000000  2.066726e+04  \n",
              "25%            0.000000      0.000000  1.030532e+05  \n",
              "50%            0.000000      0.000000  1.450179e+05  \n",
              "75%            1.000000      0.000000  2.034351e+05  \n",
              "max            4.000000      1.000000  2.265604e+06  "
            ]
          },
          "execution_count": 17,
          "metadata": {},
          "output_type": "execute_result"
        }
      ],
      "source": [
        "#DataFrame sin valores ausentes\n",
        "df.dropna().describe()"
      ]
    },
    {
      "attachments": {},
      "cell_type": "markdown",
      "metadata": {
        "id": "x3elmQvoJ_V2"
      },
      "source": [
        "**Conclusión**\n",
        "\n",
        "Podemos observar con certeza que en ambos dataframes son prácticamente iguales y no existe una distribución especial para alguna de nuestras variables lo cual nos lleva a la conclusión de que nuestros datos nulos se generaron al azar y no dependen del nivel de escolaridad o cargo del cliente."
      ]
    },
    {
      "attachments": {},
      "cell_type": "markdown",
      "metadata": {
        "id": "YM1_iHxoJ_V2"
      },
      "source": [
        "### Modulo 2: Transformación de datos\n",
        "---\n",
        "Vamos a repasar cada columna para ver qué problemas podemos encontrar en ellas, comenzaremos con la eliminación de valores duplicados y continuaremos con la corrección de la información educativa en caso de ser necesario."
      ]
    },
    {
      "attachments": {},
      "cell_type": "markdown",
      "metadata": {
        "id": "m0PPcEoCdKXp"
      },
      "source": [
        "**Revisando Columna: Education**"
      ]
    },
    {
      "cell_type": "code",
      "execution_count": 18,
      "metadata": {
        "colab": {
          "base_uri": "https://localhost:8080/"
        },
        "id": "UsayXNc7J_V2",
        "outputId": "988d6cfa-4b43-4794-c1b7-4b88c5468aed",
        "scrolled": true
      },
      "outputs": [
        {
          "data": {
            "text/plain": [
              "array(['masters degree', 'secondary education', 'bachelor degree',\n",
              "       'primary education', 'academic degree'], dtype=object)"
            ]
          },
          "execution_count": 18,
          "metadata": {},
          "output_type": "execute_result"
        }
      ],
      "source": [
        "df['education'].unique()"
      ]
    },
    {
      "attachments": {},
      "cell_type": "markdown",
      "metadata": {
        "id": "G5fG7XTcJ_V2"
      },
      "source": [
        "Los valores se arreglaron previamente por lo que no será necesario tratar esta columna."
      ]
    },
    {
      "attachments": {},
      "cell_type": "markdown",
      "metadata": {
        "id": "_5CdSDMYJ_V3"
      },
      "source": [
        "**Columna: Children**\n",
        "\n",
        "Distribución en la columna"
      ]
    },
    {
      "cell_type": "code",
      "execution_count": 19,
      "metadata": {
        "colab": {
          "base_uri": "https://localhost:8080/"
        },
        "id": "hM1D4__DJ_V3",
        "outputId": "0e621ffd-affd-41d1-8374-e618f0de3d6e"
      },
      "outputs": [
        {
          "data": {
            "text/plain": [
              "children\n",
              " 0     14149\n",
              " 1      4818\n",
              " 2      2055\n",
              " 3       330\n",
              " 20       76\n",
              "-1        47\n",
              " 4        41\n",
              " 5         9\n",
              "Name: count, dtype: int64"
            ]
          },
          "execution_count": 19,
          "metadata": {},
          "output_type": "execute_result"
        }
      ],
      "source": [
        "df['children'].value_counts(dropna=False)"
      ]
    },
    {
      "attachments": {},
      "cell_type": "markdown",
      "metadata": {
        "id": "Vo5NnnbAJ_V3"
      },
      "source": [
        "Notamos que en la columna de **Children** hay valores negativos, es probable que se trate de un error de entrada en los datos o quizás al importar el dataframe, no puede existir un valor de **-1 hijos**. Calcularemos primero el porcentaje que representan estos datos respecto al resto del conjunto y después cambiaremos su **valor en positivo**. También tenemos un registro de 76 clientes con 20 hijos, algo que es muy improbable, lo más seguro es que hayan anotado un cero de más y se trate de 2 hijos, además se trata de un valor muy bajo que no impactará en nuestro análisis si lo agregamos a la columna con 2 hijos."
      ]
    },
    {
      "attachments": {},
      "cell_type": "markdown",
      "metadata": {
        "id": "JGo1zlAGesdu"
      },
      "source": [
        "**Distribución de negativos**"
      ]
    },
    {
      "cell_type": "code",
      "execution_count": 20,
      "metadata": {
        "colab": {
          "base_uri": "https://localhost:8080/",
          "height": 35
        },
        "id": "S2jGfhjAJ_V3",
        "outputId": "3e9912b2-295a-4893-c24c-b633eeadab83"
      },
      "outputs": [
        {
          "data": {
            "text/plain": [
              "'El porcentaje de valores negativos en la columna children es: 0%'"
            ]
          },
          "execution_count": 20,
          "metadata": {},
          "output_type": "execute_result"
        }
      ],
      "source": [
        "total_data = 21525\n",
        "negative_children = 47\n",
        "\n",
        "negative_children_percentage = negative_children/total_data\n",
        "f'El porcentaje de valores negativos en la columna children es: {(negative_children_percentage):.0%}'"
      ]
    },
    {
      "attachments": {},
      "cell_type": "markdown",
      "metadata": {
        "id": "k9hQLcC4J_V3"
      },
      "source": [
        "Con esta operación podemos ver que el número de datos negativos no es relevante para nuestro análisis y podrían quedarse así; sin embargo esto no es correcto y cambiaremos los valores negativos a positivos."
      ]
    },
    {
      "cell_type": "code",
      "execution_count": 21,
      "metadata": {
        "colab": {
          "base_uri": "https://localhost:8080/"
        },
        "id": "FA516Zb7J_V3",
        "outputId": "9663721e-05de-432b-fe2c-2b26d665863e"
      },
      "outputs": [
        {
          "data": {
            "text/plain": [
              "array([ 1,  0,  3,  2, -1,  4, 20,  5], dtype=int64)"
            ]
          },
          "execution_count": 21,
          "metadata": {},
          "output_type": "execute_result"
        }
      ],
      "source": [
        "# Imprimiendo valores\n",
        "df['children'].unique()"
      ]
    },
    {
      "cell_type": "code",
      "execution_count": 22,
      "metadata": {
        "colab": {
          "base_uri": "https://localhost:8080/"
        },
        "id": "UHZfdy0hJ_V3",
        "outputId": "a80b760c-d24d-4928-d2ca-46dbaf19b6e6"
      },
      "outputs": [
        {
          "data": {
            "text/plain": [
              "array([1, 0, 3, 2, 4, 5], dtype=int64)"
            ]
          },
          "execution_count": 22,
          "metadata": {},
          "output_type": "execute_result"
        }
      ],
      "source": [
        "# Corrección de valores / verificando cambios\n",
        "df['children'] = df['children'].abs()\n",
        "df['children'] = df['children'].replace(20,2)\n",
        "df['children'].unique()"
      ]
    },
    {
      "cell_type": "code",
      "execution_count": 23,
      "metadata": {},
      "outputs": [
        {
          "data": {
            "text/plain": [
              "children\n",
              "0    14149\n",
              "1     4865\n",
              "2     2131\n",
              "3      330\n",
              "4       41\n",
              "5        9\n",
              "Name: count, dtype: int64"
            ]
          },
          "execution_count": 23,
          "metadata": {},
          "output_type": "execute_result"
        }
      ],
      "source": [
        "df['children'].value_counts(dropna=False)"
      ]
    },
    {
      "attachments": {},
      "cell_type": "markdown",
      "metadata": {
        "id": "oQcvB72xJ_V3"
      },
      "source": [
        "**Columna: Days Employed**\n",
        "\n",
        "Revisando distribución de valores"
      ]
    },
    {
      "cell_type": "code",
      "execution_count": 24,
      "metadata": {
        "colab": {
          "base_uri": "https://localhost:8080/"
        },
        "id": "xpYl80PVJ_V4",
        "outputId": "0d9ac771-9497-42ce-89d3-a337acfb1196",
        "scrolled": true
      },
      "outputs": [
        {
          "data": {
            "text/plain": [
              "days_employed\n",
              "-8437.673028      1\n",
              "-3507.818775      1\n",
              " 354500.415854    1\n",
              "-769.717438       1\n",
              "-3963.590317      1\n",
              "                 ..\n",
              "-1099.957609      1\n",
              "-209.984794       1\n",
              " 398099.392433    1\n",
              "-1271.038880      1\n",
              "-1984.507589      1\n",
              "Name: count, Length: 19351, dtype: int64"
            ]
          },
          "execution_count": 24,
          "metadata": {},
          "output_type": "execute_result"
        }
      ],
      "source": [
        "df['days_employed'].value_counts()"
      ]
    },
    {
      "cell_type": "code",
      "execution_count": 25,
      "metadata": {
        "colab": {
          "base_uri": "https://localhost:8080/"
        },
        "id": "HAXusyhaJ_V4",
        "outputId": "7d6d6b73-a7f9-4284-dd7a-9ede939e3de8",
        "scrolled": true
      },
      "outputs": [
        {
          "data": {
            "text/plain": [
              "array([-8437.67302776, -4024.80375385, -5623.42261023, ...,\n",
              "       -2113.3468877 , -3112.4817052 , -1984.50758853])"
            ]
          },
          "execution_count": 25,
          "metadata": {},
          "output_type": "execute_result"
        }
      ],
      "source": [
        "df['days_employed'].unique()"
      ]
    },
    {
      "attachments": {},
      "cell_type": "markdown",
      "metadata": {
        "id": "r2lFl6VXJ_V4"
      },
      "source": [
        "\n",
        "En esta columna encontramos los siguientes problemas:\n",
        "\n",
        "1. Valores NaN\n",
        "2. Valores negativos.\n",
        "3. Valores de coma flotante.\n",
        "\n",
        "Estos problemas pueden deberse a errores en la manipulación de la información o quizás al factor humano al ingresar los datos al dataframe. Sea cual sea la causa debemos solucionarlo.\n",
        "\n",
        "Vamos abordar estos problemas de la siguiente manera:\n",
        "\n",
        "1. Los valores ausentes los colocaremos en cero. \n",
        "2. Los valores negativos los cambiaremos a positivos.\n",
        "3. Los decimales los pasaremos a enteros pues es difícil interpretar 35.2 días."
      ]
    },
    {
      "cell_type": "code",
      "execution_count": 26,
      "metadata": {
        "id": "F-D4GVPeJ_V4"
      },
      "outputs": [],
      "source": [
        "df['days_employed'] = df['days_employed'].fillna(0)\n",
        "df['days_employed'] = df['days_employed'].abs()\n",
        "df['days_employed'] = df['days_employed'].astype(int)"
      ]
    },
    {
      "attachments": {},
      "cell_type": "markdown",
      "metadata": {
        "id": "rZokhGyhgcKo"
      },
      "source": [
        "**Comprobando correcciones**"
      ]
    },
    {
      "cell_type": "code",
      "execution_count": 27,
      "metadata": {
        "colab": {
          "base_uri": "https://localhost:8080/"
        },
        "id": "c69kFOVrJ_V4",
        "outputId": "8a4b2015-aecf-4ddf-ea2d-f4e085af0494"
      },
      "outputs": [
        {
          "data": {
            "text/plain": [
              "days_employed\n",
              "0         2174\n",
              "133         16\n",
              "327         16\n",
              "438         15\n",
              "223         14\n",
              "          ... \n",
              "8200         1\n",
              "9090         1\n",
              "360849       1\n",
              "2101         1\n",
              "343937       1\n",
              "Name: count, Length: 9087, dtype: int64"
            ]
          },
          "execution_count": 27,
          "metadata": {},
          "output_type": "execute_result"
        }
      ],
      "source": [
        "df['days_employed'].value_counts()"
      ]
    },
    {
      "attachments": {},
      "cell_type": "markdown",
      "metadata": {
        "id": "3fxNwEhJJ_V4"
      },
      "source": [
        "Al aplicar 'value_counts' podemos ver que existen valores muy grandes, quizás estén expresados en otras unidades, vamos a intentar convertirlos en horas."
      ]
    },
    {
      "cell_type": "code",
      "execution_count": 28,
      "metadata": {
        "colab": {
          "base_uri": "https://localhost:8080/"
        },
        "id": "bvN30u-6J_V4",
        "outputId": "1a0f3989-4f18-49c9-833d-37daa9f1a529"
      },
      "outputs": [
        {
          "data": {
            "text/plain": [
              "401755"
            ]
          },
          "execution_count": 28,
          "metadata": {},
          "output_type": "execute_result"
        }
      ],
      "source": [
        "df['days_employed'].max()"
      ]
    },
    {
      "cell_type": "code",
      "execution_count": 29,
      "metadata": {
        "colab": {
          "base_uri": "https://localhost:8080/"
        },
        "id": "YKONAlcWJ_V6",
        "outputId": "0ebe2c39-3f66-464b-eef2-aca58230bd6a"
      },
      "outputs": [
        {
          "data": {
            "text/plain": [
              "16740"
            ]
          },
          "execution_count": 29,
          "metadata": {},
          "output_type": "execute_result"
        }
      ],
      "source": [
        "df['days_employed'] = round(df['days_employed'] / 24)\n",
        "df['days_employed'] = df['days_employed'].astype(int)\n",
        "df['days_employed'].max()"
      ]
    },
    {
      "attachments": {},
      "cell_type": "markdown",
      "metadata": {
        "id": "qUHD0x2SJ_V7"
      },
      "source": [
        "Ahora el valor máximo es de 16740 días que equivalen a 45 años, ahora nuestros datos tienen más sentido."
      ]
    },
    {
      "attachments": {},
      "cell_type": "markdown",
      "metadata": {
        "id": "dqXJpvJvJ_V7"
      },
      "source": [
        "**Columna: Dob Years**\n",
        "\n",
        "Ahora echemos un vistazo a la edad de clientes para ver si hay algún problema allí."
      ]
    },
    {
      "cell_type": "code",
      "execution_count": 30,
      "metadata": {
        "colab": {
          "base_uri": "https://localhost:8080/"
        },
        "id": "dLn9xsGGJ_V7",
        "outputId": "b2408e2b-a63c-4801-f875-5a030068823b",
        "scrolled": false
      },
      "outputs": [
        {
          "data": {
            "text/plain": [
              "array([42, 36, 33, 32, 53, 27, 43, 50, 35, 41, 40, 65, 54, 56, 26, 48, 24,\n",
              "       21, 57, 67, 28, 63, 62, 47, 34, 68, 25, 31, 30, 20, 49, 37, 45, 61,\n",
              "       64, 44, 52, 46, 23, 38, 39, 51,  0, 59, 29, 60, 55, 58, 71, 22, 73,\n",
              "       66, 69, 19, 72, 70, 74, 75], dtype=int64)"
            ]
          },
          "execution_count": 30,
          "metadata": {},
          "output_type": "execute_result"
        }
      ],
      "source": [
        "df['dob_years'].unique()"
      ]
    },
    {
      "attachments": {},
      "cell_type": "markdown",
      "metadata": {
        "id": "Ae9thd31h2FS"
      },
      "source": [
        "Análisis de distribución"
      ]
    },
    {
      "cell_type": "code",
      "execution_count": 31,
      "metadata": {
        "colab": {
          "base_uri": "https://localhost:8080/"
        },
        "id": "36-h95TdJ_V7",
        "outputId": "6df17942-dba4-4af9-d9ea-0bdd8c738067"
      },
      "outputs": [
        {
          "data": {
            "text/plain": [
              "dob_years\n",
              "35    617\n",
              "40    609\n",
              "41    607\n",
              "34    603\n",
              "38    598\n",
              "42    597\n",
              "33    581\n",
              "39    573\n",
              "31    560\n",
              "36    555\n",
              "44    547\n",
              "29    545\n",
              "30    540\n",
              "48    538\n",
              "37    537\n",
              "50    514\n",
              "43    513\n",
              "32    510\n",
              "49    508\n",
              "28    503\n",
              "45    497\n",
              "27    493\n",
              "56    487\n",
              "52    484\n",
              "47    480\n",
              "54    479\n",
              "46    475\n",
              "58    461\n",
              "57    460\n",
              "53    459\n",
              "51    448\n",
              "59    444\n",
              "55    443\n",
              "26    408\n",
              "60    377\n",
              "25    357\n",
              "61    355\n",
              "62    352\n",
              "63    269\n",
              "64    265\n",
              "24    264\n",
              "23    254\n",
              "65    194\n",
              "22    183\n",
              "66    183\n",
              "67    167\n",
              "21    111\n",
              "0     101\n",
              "68     99\n",
              "69     85\n",
              "70     65\n",
              "71     58\n",
              "20     51\n",
              "72     33\n",
              "19     14\n",
              "73      8\n",
              "74      6\n",
              "75      1\n",
              "Name: count, dtype: int64"
            ]
          },
          "execution_count": 31,
          "metadata": {},
          "output_type": "execute_result"
        }
      ],
      "source": [
        "df['dob_years'].value_counts()"
      ]
    },
    {
      "attachments": {},
      "cell_type": "markdown",
      "metadata": {
        "id": "Op_ibaqOJ_V7"
      },
      "source": [
        "Existe un total de 101 registros en cero (0), esto no puede ser posible debido a que un cliente no podría tener cero años, de ser ese el caso estaríamos hablando de un recién nacido. Esta cantidad corresponde al 0.4% del total de los datos lo cuál no impacta en nuestro análisis. \n",
        "\n",
        "Vamos a reemplazar estos valores por la media."
      ]
    },
    {
      "cell_type": "code",
      "execution_count": 32,
      "metadata": {
        "colab": {
          "base_uri": "https://localhost:8080/"
        },
        "id": "0RiC3cQrinQr",
        "outputId": "7405bb71-7cb9-43fb-ee61-8f99b21dbb21"
      },
      "outputs": [
        {
          "name": "stdout",
          "output_type": "stream",
          "text": [
            "El valor promedio de la columna dob years es: 43.29337979094077\n"
          ]
        }
      ],
      "source": [
        "m = df['dob_years'].mean()\n",
        "print('El valor promedio de la columna dob years es:', m)"
      ]
    },
    {
      "cell_type": "code",
      "execution_count": 33,
      "metadata": {
        "colab": {
          "base_uri": "https://localhost:8080/"
        },
        "id": "v8gTF3sMJ_V7",
        "outputId": "8aa2e427-c40a-47e2-e872-5d93046f0d8d"
      },
      "outputs": [
        {
          "data": {
            "text/plain": [
              "dob_years\n",
              "35    617\n",
              "43    614\n",
              "40    609\n",
              "41    607\n",
              "34    603\n",
              "38    598\n",
              "42    597\n",
              "33    581\n",
              "39    573\n",
              "31    560\n",
              "36    555\n",
              "44    547\n",
              "29    545\n",
              "30    540\n",
              "48    538\n",
              "37    537\n",
              "50    514\n",
              "32    510\n",
              "49    508\n",
              "28    503\n",
              "45    497\n",
              "27    493\n",
              "56    487\n",
              "52    484\n",
              "47    480\n",
              "54    479\n",
              "46    475\n",
              "58    461\n",
              "57    460\n",
              "53    459\n",
              "51    448\n",
              "59    444\n",
              "55    443\n",
              "26    408\n",
              "60    377\n",
              "25    357\n",
              "61    355\n",
              "62    352\n",
              "63    269\n",
              "64    265\n",
              "24    264\n",
              "23    254\n",
              "65    194\n",
              "66    183\n",
              "22    183\n",
              "67    167\n",
              "21    111\n",
              "68     99\n",
              "69     85\n",
              "70     65\n",
              "71     58\n",
              "20     51\n",
              "72     33\n",
              "19     14\n",
              "73      8\n",
              "74      6\n",
              "75      1\n",
              "Name: count, dtype: int64"
            ]
          },
          "execution_count": 33,
          "metadata": {},
          "output_type": "execute_result"
        }
      ],
      "source": [
        "df['dob_years'].replace(0,43, inplace=True)\n",
        "df['dob_years'].value_counts()"
      ]
    },
    {
      "attachments": {},
      "cell_type": "markdown",
      "metadata": {
        "id": "aene7MjeJ_V8"
      },
      "source": [
        "**Columna: Family_Status**"
      ]
    },
    {
      "cell_type": "code",
      "execution_count": 34,
      "metadata": {
        "colab": {
          "base_uri": "https://localhost:8080/"
        },
        "id": "2AoR1MvwJ_V8",
        "outputId": "26c8f30b-acfa-4481-eb0d-d777d3d4ef8d",
        "scrolled": true
      },
      "outputs": [
        {
          "name": "stdout",
          "output_type": "stream",
          "text": [
            "Valores únicos: ['married' 'civil partnership' 'widow / widower' 'divorced' 'unmarried']\n"
          ]
        },
        {
          "data": {
            "text/plain": [
              "family_status\n",
              "married              12380\n",
              "civil partnership     4177\n",
              "unmarried             2813\n",
              "divorced              1195\n",
              "widow / widower        960\n",
              "Name: count, dtype: int64"
            ]
          },
          "execution_count": 34,
          "metadata": {},
          "output_type": "execute_result"
        }
      ],
      "source": [
        "print('Valores únicos:', df['family_status'].unique())\n",
        "df['family_status'].value_counts(dropna=False)"
      ]
    },
    {
      "attachments": {},
      "cell_type": "markdown",
      "metadata": {
        "id": "CwiciWFeJ_V8"
      },
      "source": [
        "No se aprecian valores extraños relevantes para nuestro análisis."
      ]
    },
    {
      "attachments": {},
      "cell_type": "markdown",
      "metadata": {
        "id": "DkCNjzp0J_V8"
      },
      "source": [
        "**Columna: Gender**\n",
        "\n",
        "Vamos a revisar ahora la columna 'gender' para observar si hay problemas en ella."
      ]
    },
    {
      "cell_type": "code",
      "execution_count": 35,
      "metadata": {
        "colab": {
          "base_uri": "https://localhost:8080/"
        },
        "id": "7ZSRkIOsJ_V8",
        "outputId": "59faf0b3-80cc-4c9f-df96-7e0a6acfd89b",
        "scrolled": true
      },
      "outputs": [
        {
          "name": "stdout",
          "output_type": "stream",
          "text": [
            "valores únicos: ['F' 'M' 'XNA']\n"
          ]
        },
        {
          "data": {
            "text/plain": [
              "gender\n",
              "F      14236\n",
              "M       7288\n",
              "XNA        1\n",
              "Name: count, dtype: int64"
            ]
          },
          "execution_count": 35,
          "metadata": {},
          "output_type": "execute_result"
        }
      ],
      "source": [
        "print('valores únicos:', df['gender'].unique())\n",
        "df['gender'].value_counts()"
      ]
    },
    {
      "attachments": {},
      "cell_type": "markdown",
      "metadata": {
        "id": "kW5BWWUuJ_V8"
      },
      "source": [
        "Encontramos un valor extraño llamado 'XNA', como no se trata de un valor representativo podemos integrarlo a cualquiera de los dos géneros sin que genere un impacto en nuestro análisis, en este caso lo integraré al género F debido a la frecuencia que tiene la columna."
      ]
    },
    {
      "cell_type": "code",
      "execution_count": 36,
      "metadata": {
        "colab": {
          "base_uri": "https://localhost:8080/"
        },
        "id": "z13Wr2XuJ_V8",
        "outputId": "7d9e1f1d-128a-418d-9178-a87303892c38"
      },
      "outputs": [
        {
          "data": {
            "text/plain": [
              "gender\n",
              "F    14237\n",
              "M     7288\n",
              "Name: count, dtype: int64"
            ]
          },
          "execution_count": 36,
          "metadata": {},
          "output_type": "execute_result"
        }
      ],
      "source": [
        "df['gender'] = df['gender'].replace('XNA','F')\n",
        "df['gender'].value_counts()"
      ]
    },
    {
      "attachments": {},
      "cell_type": "markdown",
      "metadata": {
        "id": "upvmWE5jJ_V8"
      },
      "source": [
        "**Columna: Income Type**\n",
        "\n",
        "Vamos a revisar la columna 'income_type'."
      ]
    },
    {
      "cell_type": "code",
      "execution_count": 37,
      "metadata": {
        "colab": {
          "base_uri": "https://localhost:8080/"
        },
        "id": "4ROMB_G8J_V9",
        "outputId": "9fb0158d-a31c-437c-e45a-d1e85097241c"
      },
      "outputs": [
        {
          "name": "stdout",
          "output_type": "stream",
          "text": [
            "valores únicos: ['employee' 'retiree' 'partner' 'civil servant' 'unempoyed' 'entrepreneur'\n",
            " 'student' 'paternity / maternity leave']\n"
          ]
        },
        {
          "data": {
            "text/plain": [
              "income_type\n",
              "employee                       11119\n",
              "partner                         5085\n",
              "retiree                         3856\n",
              "civil servant                   1459\n",
              "unempoyed                          2\n",
              "entrepreneur                       2\n",
              "student                            1\n",
              "paternity / maternity leave        1\n",
              "Name: count, dtype: int64"
            ]
          },
          "execution_count": 37,
          "metadata": {},
          "output_type": "execute_result"
        }
      ],
      "source": [
        "print('valores únicos:', df['income_type'].unique())\n",
        "df['income_type'].value_counts(dropna=False)"
      ]
    },
    {
      "attachments": {},
      "cell_type": "markdown",
      "metadata": {
        "id": "NTHmxGc4J_V9"
      },
      "source": [
        "No se aprecian valores extraños o relevantes para nuestro análisis."
      ]
    },
    {
      "attachments": {},
      "cell_type": "markdown",
      "metadata": {
        "id": "PPjUxonwJ_V9"
      },
      "source": [
        "**DataFrame: Datos Duplicados**\n",
        "\n",
        "Revisemos si existen datos duplicados."
      ]
    },
    {
      "cell_type": "code",
      "execution_count": 38,
      "metadata": {
        "colab": {
          "base_uri": "https://localhost:8080/"
        },
        "id": "SLXBcVdZJ_V9",
        "outputId": "5c1cf9a4-9e1f-44fc-976d-e56a4a099df4",
        "scrolled": true
      },
      "outputs": [
        {
          "name": "stdout",
          "output_type": "stream",
          "text": [
            "Total de datos duplicados: 71\n"
          ]
        }
      ],
      "source": [
        "print(\n",
        "    'Total de datos duplicados:',\n",
        "    df.duplicated().sum())"
      ]
    },
    {
      "cell_type": "code",
      "execution_count": 39,
      "metadata": {},
      "outputs": [
        {
          "data": {
            "text/plain": [
              "(21525, 12)"
            ]
          },
          "execution_count": 39,
          "metadata": {},
          "output_type": "execute_result"
        }
      ],
      "source": [
        "df.shape"
      ]
    },
    {
      "cell_type": "code",
      "execution_count": 40,
      "metadata": {
        "colab": {
          "base_uri": "https://localhost:8080/"
        },
        "id": "fwHEh84GJ_V9",
        "outputId": "8b5c714c-c357-4a6a-fe6d-dade075fb43b"
      },
      "outputs": [
        {
          "data": {
            "text/plain": [
              "0"
            ]
          },
          "execution_count": 40,
          "metadata": {},
          "output_type": "execute_result"
        }
      ],
      "source": [
        "# Abordando duplicados\n",
        "df = df.drop_duplicates().reset_index(drop=True)\n",
        "df.duplicated().sum()"
      ]
    },
    {
      "attachments": {},
      "cell_type": "markdown",
      "metadata": {
        "id": "6dYWJjoilYC-"
      },
      "source": [
        "Comprobando tamaño del dataframe después de manipulaciones"
      ]
    },
    {
      "cell_type": "code",
      "execution_count": 41,
      "metadata": {
        "colab": {
          "base_uri": "https://localhost:8080/"
        },
        "id": "vtpOQAgCJ_V9",
        "outputId": "1cba27ec-5721-4a1f-f0c9-87c29a0b5ff6"
      },
      "outputs": [
        {
          "data": {
            "text/plain": [
              "(21454, 12)"
            ]
          },
          "execution_count": 41,
          "metadata": {},
          "output_type": "execute_result"
        }
      ],
      "source": [
        "df.shape"
      ]
    },
    {
      "attachments": {},
      "cell_type": "markdown",
      "metadata": {
        "id": "t5cY_6_XJ_V-"
      },
      "source": [
        "**Conclusión**\n",
        "\n",
        "Después de limpiar algunas columnas podemos ver un ajuste en el número de valores, aún nos falta por revisar los valores ausentes de la columna 'total_income' pero es algo que resolveremos en la siguiente etapa."
      ]
    },
    {
      "attachments": {},
      "cell_type": "markdown",
      "metadata": {
        "id": "zeBVbiQRJ_V-"
      },
      "source": [
        "### Modulo 3: Transformaciones con valores ausentes\n",
        "---"
      ]
    },
    {
      "attachments": {},
      "cell_type": "markdown",
      "metadata": {
        "id": "pT_klewxJ_V-"
      },
      "source": [
        "Vamos a trabajar con algunos valores ausentes que encontramos en la columna **total_income**, pero primero vamos a revisar los valores de **índice y valor** en education y family status para visualizar un poco la correlación que existe entre estas variables"
      ]
    },
    {
      "cell_type": "code",
      "execution_count": 42,
      "metadata": {
        "colab": {
          "base_uri": "https://localhost:8080/"
        },
        "id": "hBrpfjV7J_V-",
        "outputId": "e5e493b5-f470-46f3-e6ea-d8730197e179",
        "scrolled": true
      },
      "outputs": [
        {
          "data": {
            "text/plain": [
              "education_id  education          \n",
              "1             secondary education    15172\n",
              "0             masters degree          5250\n",
              "2             bachelor degree          744\n",
              "3             primary education        282\n",
              "4             academic degree            6\n",
              "Name: count, dtype: int64"
            ]
          },
          "execution_count": 42,
          "metadata": {},
          "output_type": "execute_result"
        }
      ],
      "source": [
        "df[['education_id', 'education']].value_counts()"
      ]
    },
    {
      "cell_type": "code",
      "execution_count": 43,
      "metadata": {
        "colab": {
          "base_uri": "https://localhost:8080/"
        },
        "id": "DXqGm0EsJ_V-",
        "outputId": "0f6392c6-5878-4001-a6c0-2bf914237b41",
        "scrolled": true
      },
      "outputs": [
        {
          "data": {
            "text/plain": [
              "family_status_id  family_status    \n",
              "0                 married              12339\n",
              "1                 civil partnership     4151\n",
              "4                 unmarried             2810\n",
              "3                 divorced              1195\n",
              "2                 widow / widower        959\n",
              "Name: count, dtype: int64"
            ]
          },
          "execution_count": 43,
          "metadata": {},
          "output_type": "execute_result"
        }
      ],
      "source": [
        "df[['family_status_id', 'family_status']].value_counts()"
      ]
    },
    {
      "cell_type": "code",
      "execution_count": 44,
      "metadata": {
        "colab": {
          "base_uri": "https://localhost:8080/"
        },
        "id": "ycif6onTJ_V-",
        "outputId": "d83b0090-d691-400f-87ef-e1a742c00682"
      },
      "outputs": [
        {
          "data": {
            "text/plain": [
              "dob_years\n",
              "75      1\n",
              "74      6\n",
              "73      8\n",
              "19     14\n",
              "72     33\n",
              "20     51\n",
              "71     56\n",
              "70     65\n",
              "69     85\n",
              "68     99\n",
              "21    111\n",
              "67    167\n",
              "66    182\n",
              "22    183\n",
              "65    193\n",
              "23    252\n",
              "64    260\n",
              "24    264\n",
              "63    269\n",
              "62    348\n",
              "61    354\n",
              "25    357\n",
              "60    374\n",
              "26    408\n",
              "55    443\n",
              "59    443\n",
              "51    446\n",
              "58    454\n",
              "57    456\n",
              "53    459\n",
              "46    472\n",
              "54    476\n",
              "47    477\n",
              "56    483\n",
              "52    484\n",
              "27    493\n",
              "45    496\n",
              "28    503\n",
              "49    508\n",
              "32    509\n",
              "50    513\n",
              "48    536\n",
              "37    536\n",
              "30    537\n",
              "29    544\n",
              "44    545\n",
              "36    554\n",
              "31    559\n",
              "39    572\n",
              "33    581\n",
              "42    596\n",
              "38    597\n",
              "34    601\n",
              "41    605\n",
              "40    607\n",
              "43    613\n",
              "35    616\n",
              "Name: count, dtype: int64"
            ]
          },
          "execution_count": 44,
          "metadata": {},
          "output_type": "execute_result"
        }
      ],
      "source": [
        "df['dob_years'].value_counts().sort_values()"
      ]
    },
    {
      "attachments": {},
      "cell_type": "markdown",
      "metadata": {
        "id": "bbJvJ2kYJ_V-"
      },
      "source": [
        "### Restaurar valores ausentes en `total_income`"
      ]
    },
    {
      "attachments": {},
      "cell_type": "markdown",
      "metadata": {
        "id": "1EhCOPbtJ_V-"
      },
      "source": [
        "\n",
        "Para restaurar valores ausentes en la columna vamos a crear una columna nueva de categorías por edad dentro del dataframe, la utilizaré más adelante como referencia para tratar los valores ausentes.\n"
      ]
    },
    {
      "cell_type": "code",
      "execution_count": 45,
      "metadata": {
        "id": "y1CDx79wJ_V-"
      },
      "outputs": [],
      "source": [
        "def age_range(row):\n",
        "    if row['dob_years'] < 20:\n",
        "        return '10-20'\n",
        "    elif row['dob_years'] < 30:\n",
        "        return '20-30'\n",
        "    elif row['dob_years'] < 40:\n",
        "        return '30-40'\n",
        "    elif row['dob_years'] < 50:\n",
        "        return '40-50'\n",
        "    elif row['dob_years'] < 60:\n",
        "        return '50-60'\n",
        "    else:\n",
        "        return '60+'  "
      ]
    },
    {
      "cell_type": "code",
      "execution_count": 46,
      "metadata": {
        "colab": {
          "base_uri": "https://localhost:8080/"
        },
        "id": "OXnIWSQCJ_V-",
        "outputId": "a10374e1-d9d4-42c7-8ef7-9fed2cccfa1d"
      },
      "outputs": [
        {
          "data": {
            "text/plain": [
              "0        40-50\n",
              "1        30-40\n",
              "2        30-40\n",
              "3        30-40\n",
              "4        50-60\n",
              "         ...  \n",
              "21449    40-50\n",
              "21450      60+\n",
              "21451    30-40\n",
              "21452    30-40\n",
              "21453    40-50\n",
              "Length: 21454, dtype: object"
            ]
          },
          "execution_count": 46,
          "metadata": {},
          "output_type": "execute_result"
        }
      ],
      "source": [
        "df.apply(age_range, axis=1)"
      ]
    },
    {
      "attachments": {},
      "cell_type": "markdown",
      "metadata": {
        "id": "6opqCZFxBUZv"
      },
      "source": [
        "**Realizando Clasificación por Edades**"
      ]
    },
    {
      "cell_type": "code",
      "execution_count": 47,
      "metadata": {
        "colab": {
          "base_uri": "https://localhost:8080/",
          "height": 206
        },
        "id": "hwm25uulJ_V_",
        "outputId": "70fe541d-a685-401a-8d5d-7e2c67be9c74"
      },
      "outputs": [
        {
          "data": {
            "text/html": [
              "<div>\n",
              "<style scoped>\n",
              "    .dataframe tbody tr th:only-of-type {\n",
              "        vertical-align: middle;\n",
              "    }\n",
              "\n",
              "    .dataframe tbody tr th {\n",
              "        vertical-align: top;\n",
              "    }\n",
              "\n",
              "    .dataframe thead th {\n",
              "        text-align: right;\n",
              "    }\n",
              "</style>\n",
              "<table border=\"1\" class=\"dataframe\">\n",
              "  <thead>\n",
              "    <tr style=\"text-align: right;\">\n",
              "      <th></th>\n",
              "      <th>children</th>\n",
              "      <th>days_employed</th>\n",
              "      <th>dob_years</th>\n",
              "      <th>education</th>\n",
              "      <th>education_id</th>\n",
              "      <th>family_status</th>\n",
              "      <th>family_status_id</th>\n",
              "      <th>gender</th>\n",
              "      <th>income_type</th>\n",
              "      <th>debt</th>\n",
              "      <th>total_income</th>\n",
              "      <th>purpose</th>\n",
              "      <th>age_range</th>\n",
              "    </tr>\n",
              "  </thead>\n",
              "  <tbody>\n",
              "    <tr>\n",
              "      <th>0</th>\n",
              "      <td>1</td>\n",
              "      <td>352</td>\n",
              "      <td>42</td>\n",
              "      <td>masters degree</td>\n",
              "      <td>0</td>\n",
              "      <td>married</td>\n",
              "      <td>0</td>\n",
              "      <td>F</td>\n",
              "      <td>employee</td>\n",
              "      <td>0</td>\n",
              "      <td>253875.639453</td>\n",
              "      <td>purchase of the house</td>\n",
              "      <td>40-50</td>\n",
              "    </tr>\n",
              "    <tr>\n",
              "      <th>1</th>\n",
              "      <td>1</td>\n",
              "      <td>168</td>\n",
              "      <td>36</td>\n",
              "      <td>secondary education</td>\n",
              "      <td>1</td>\n",
              "      <td>married</td>\n",
              "      <td>0</td>\n",
              "      <td>F</td>\n",
              "      <td>employee</td>\n",
              "      <td>0</td>\n",
              "      <td>112080.014102</td>\n",
              "      <td>car purchase</td>\n",
              "      <td>30-40</td>\n",
              "    </tr>\n",
              "    <tr>\n",
              "      <th>2</th>\n",
              "      <td>0</td>\n",
              "      <td>234</td>\n",
              "      <td>33</td>\n",
              "      <td>secondary education</td>\n",
              "      <td>1</td>\n",
              "      <td>married</td>\n",
              "      <td>0</td>\n",
              "      <td>M</td>\n",
              "      <td>employee</td>\n",
              "      <td>0</td>\n",
              "      <td>145885.952297</td>\n",
              "      <td>purchase of the house</td>\n",
              "      <td>30-40</td>\n",
              "    </tr>\n",
              "    <tr>\n",
              "      <th>3</th>\n",
              "      <td>3</td>\n",
              "      <td>172</td>\n",
              "      <td>32</td>\n",
              "      <td>secondary education</td>\n",
              "      <td>1</td>\n",
              "      <td>married</td>\n",
              "      <td>0</td>\n",
              "      <td>M</td>\n",
              "      <td>employee</td>\n",
              "      <td>0</td>\n",
              "      <td>267628.550329</td>\n",
              "      <td>supplementary education</td>\n",
              "      <td>30-40</td>\n",
              "    </tr>\n",
              "    <tr>\n",
              "      <th>4</th>\n",
              "      <td>0</td>\n",
              "      <td>14178</td>\n",
              "      <td>53</td>\n",
              "      <td>secondary education</td>\n",
              "      <td>1</td>\n",
              "      <td>civil partnership</td>\n",
              "      <td>1</td>\n",
              "      <td>F</td>\n",
              "      <td>retiree</td>\n",
              "      <td>0</td>\n",
              "      <td>158616.077870</td>\n",
              "      <td>to have a wedding</td>\n",
              "      <td>50-60</td>\n",
              "    </tr>\n",
              "  </tbody>\n",
              "</table>\n",
              "</div>"
            ],
            "text/plain": [
              "   children  days_employed  dob_years            education  education_id  \\\n",
              "0         1            352         42       masters degree             0   \n",
              "1         1            168         36  secondary education             1   \n",
              "2         0            234         33  secondary education             1   \n",
              "3         3            172         32  secondary education             1   \n",
              "4         0          14178         53  secondary education             1   \n",
              "\n",
              "       family_status  family_status_id gender income_type  debt  \\\n",
              "0            married                 0      F    employee     0   \n",
              "1            married                 0      F    employee     0   \n",
              "2            married                 0      M    employee     0   \n",
              "3            married                 0      M    employee     0   \n",
              "4  civil partnership                 1      F     retiree     0   \n",
              "\n",
              "    total_income                  purpose age_range  \n",
              "0  253875.639453    purchase of the house     40-50  \n",
              "1  112080.014102             car purchase     30-40  \n",
              "2  145885.952297    purchase of the house     30-40  \n",
              "3  267628.550329  supplementary education     30-40  \n",
              "4  158616.077870        to have a wedding     50-60  "
            ]
          },
          "execution_count": 47,
          "metadata": {},
          "output_type": "execute_result"
        }
      ],
      "source": [
        "df['age_range'] = df.apply(age_range, axis=1)\n",
        "df.head()"
      ]
    },
    {
      "cell_type": "code",
      "execution_count": 48,
      "metadata": {},
      "outputs": [
        {
          "data": {
            "text/html": [
              "<div>\n",
              "<style scoped>\n",
              "    .dataframe tbody tr th:only-of-type {\n",
              "        vertical-align: middle;\n",
              "    }\n",
              "\n",
              "    .dataframe tbody tr th {\n",
              "        vertical-align: top;\n",
              "    }\n",
              "\n",
              "    .dataframe thead th {\n",
              "        text-align: right;\n",
              "    }\n",
              "</style>\n",
              "<table border=\"1\" class=\"dataframe\">\n",
              "  <thead>\n",
              "    <tr style=\"text-align: right;\">\n",
              "      <th></th>\n",
              "      <th>children</th>\n",
              "      <th>days_employed</th>\n",
              "      <th>dob_years</th>\n",
              "      <th>education</th>\n",
              "      <th>education_id</th>\n",
              "      <th>family_status</th>\n",
              "      <th>family_status_id</th>\n",
              "      <th>gender</th>\n",
              "      <th>income_type</th>\n",
              "      <th>debt</th>\n",
              "      <th>total_income</th>\n",
              "      <th>purpose</th>\n",
              "      <th>age_range</th>\n",
              "    </tr>\n",
              "  </thead>\n",
              "  <tbody>\n",
              "    <tr>\n",
              "      <th>12</th>\n",
              "      <td>0</td>\n",
              "      <td>0</td>\n",
              "      <td>65</td>\n",
              "      <td>secondary education</td>\n",
              "      <td>1</td>\n",
              "      <td>civil partnership</td>\n",
              "      <td>1</td>\n",
              "      <td>M</td>\n",
              "      <td>retiree</td>\n",
              "      <td>0</td>\n",
              "      <td>NaN</td>\n",
              "      <td>to have a wedding</td>\n",
              "      <td>60+</td>\n",
              "    </tr>\n",
              "    <tr>\n",
              "      <th>26</th>\n",
              "      <td>0</td>\n",
              "      <td>0</td>\n",
              "      <td>41</td>\n",
              "      <td>secondary education</td>\n",
              "      <td>1</td>\n",
              "      <td>married</td>\n",
              "      <td>0</td>\n",
              "      <td>M</td>\n",
              "      <td>civil servant</td>\n",
              "      <td>0</td>\n",
              "      <td>NaN</td>\n",
              "      <td>education</td>\n",
              "      <td>40-50</td>\n",
              "    </tr>\n",
              "    <tr>\n",
              "      <th>29</th>\n",
              "      <td>0</td>\n",
              "      <td>0</td>\n",
              "      <td>63</td>\n",
              "      <td>secondary education</td>\n",
              "      <td>1</td>\n",
              "      <td>unmarried</td>\n",
              "      <td>4</td>\n",
              "      <td>F</td>\n",
              "      <td>retiree</td>\n",
              "      <td>0</td>\n",
              "      <td>NaN</td>\n",
              "      <td>building a real estate</td>\n",
              "      <td>60+</td>\n",
              "    </tr>\n",
              "    <tr>\n",
              "      <th>41</th>\n",
              "      <td>0</td>\n",
              "      <td>0</td>\n",
              "      <td>50</td>\n",
              "      <td>secondary education</td>\n",
              "      <td>1</td>\n",
              "      <td>married</td>\n",
              "      <td>0</td>\n",
              "      <td>F</td>\n",
              "      <td>civil servant</td>\n",
              "      <td>0</td>\n",
              "      <td>NaN</td>\n",
              "      <td>second-hand car purchase</td>\n",
              "      <td>50-60</td>\n",
              "    </tr>\n",
              "    <tr>\n",
              "      <th>55</th>\n",
              "      <td>0</td>\n",
              "      <td>0</td>\n",
              "      <td>54</td>\n",
              "      <td>secondary education</td>\n",
              "      <td>1</td>\n",
              "      <td>civil partnership</td>\n",
              "      <td>1</td>\n",
              "      <td>F</td>\n",
              "      <td>retiree</td>\n",
              "      <td>1</td>\n",
              "      <td>NaN</td>\n",
              "      <td>to have a wedding</td>\n",
              "      <td>50-60</td>\n",
              "    </tr>\n",
              "  </tbody>\n",
              "</table>\n",
              "</div>"
            ],
            "text/plain": [
              "    children  days_employed  dob_years            education  education_id  \\\n",
              "12         0              0         65  secondary education             1   \n",
              "26         0              0         41  secondary education             1   \n",
              "29         0              0         63  secondary education             1   \n",
              "41         0              0         50  secondary education             1   \n",
              "55         0              0         54  secondary education             1   \n",
              "\n",
              "        family_status  family_status_id gender    income_type  debt  \\\n",
              "12  civil partnership                 1      M        retiree     0   \n",
              "26            married                 0      M  civil servant     0   \n",
              "29          unmarried                 4      F        retiree     0   \n",
              "41            married                 0      F  civil servant     0   \n",
              "55  civil partnership                 1      F        retiree     1   \n",
              "\n",
              "    total_income                   purpose age_range  \n",
              "12           NaN         to have a wedding       60+  \n",
              "26           NaN                 education     40-50  \n",
              "29           NaN    building a real estate       60+  \n",
              "41           NaN  second-hand car purchase     50-60  \n",
              "55           NaN         to have a wedding     50-60  "
            ]
          },
          "execution_count": 48,
          "metadata": {},
          "output_type": "execute_result"
        }
      ],
      "source": [
        "df[df[\"total_income\"].isna()].head()"
      ]
    },
    {
      "attachments": {},
      "cell_type": "markdown",
      "metadata": {
        "id": "u371wt2gJ_V_"
      },
      "source": [
        "Uno de los factores que nos puede ayudar a rellenar los valores ausentes en la columna de ingresos es el rango de edad y para ello utilizaremos nuestra columna con el rango de edades, para ello, crearemos una tabla que solo tenga datos sin valores ausentes, estos datos se utilizarán para restaurar los valores ausentes."
      ]
    },
    {
      "cell_type": "code",
      "execution_count": 49,
      "metadata": {
        "colab": {
          "base_uri": "https://localhost:8080/",
          "height": 206
        },
        "id": "7xzH6D11J_V_",
        "outputId": "61f2a26c-c0a9-4d72-b980-a71a861075df"
      },
      "outputs": [
        {
          "data": {
            "text/html": [
              "<div>\n",
              "<style scoped>\n",
              "    .dataframe tbody tr th:only-of-type {\n",
              "        vertical-align: middle;\n",
              "    }\n",
              "\n",
              "    .dataframe tbody tr th {\n",
              "        vertical-align: top;\n",
              "    }\n",
              "\n",
              "    .dataframe thead th {\n",
              "        text-align: right;\n",
              "    }\n",
              "</style>\n",
              "<table border=\"1\" class=\"dataframe\">\n",
              "  <thead>\n",
              "    <tr style=\"text-align: right;\">\n",
              "      <th></th>\n",
              "      <th>children</th>\n",
              "      <th>days_employed</th>\n",
              "      <th>dob_years</th>\n",
              "      <th>education</th>\n",
              "      <th>education_id</th>\n",
              "      <th>family_status</th>\n",
              "      <th>family_status_id</th>\n",
              "      <th>gender</th>\n",
              "      <th>income_type</th>\n",
              "      <th>debt</th>\n",
              "      <th>total_income</th>\n",
              "      <th>purpose</th>\n",
              "      <th>age_range</th>\n",
              "    </tr>\n",
              "  </thead>\n",
              "  <tbody>\n",
              "    <tr>\n",
              "      <th>0</th>\n",
              "      <td>1</td>\n",
              "      <td>352</td>\n",
              "      <td>42</td>\n",
              "      <td>masters degree</td>\n",
              "      <td>0</td>\n",
              "      <td>married</td>\n",
              "      <td>0</td>\n",
              "      <td>F</td>\n",
              "      <td>employee</td>\n",
              "      <td>0</td>\n",
              "      <td>253875.639453</td>\n",
              "      <td>purchase of the house</td>\n",
              "      <td>40-50</td>\n",
              "    </tr>\n",
              "    <tr>\n",
              "      <th>1</th>\n",
              "      <td>1</td>\n",
              "      <td>168</td>\n",
              "      <td>36</td>\n",
              "      <td>secondary education</td>\n",
              "      <td>1</td>\n",
              "      <td>married</td>\n",
              "      <td>0</td>\n",
              "      <td>F</td>\n",
              "      <td>employee</td>\n",
              "      <td>0</td>\n",
              "      <td>112080.014102</td>\n",
              "      <td>car purchase</td>\n",
              "      <td>30-40</td>\n",
              "    </tr>\n",
              "    <tr>\n",
              "      <th>2</th>\n",
              "      <td>0</td>\n",
              "      <td>234</td>\n",
              "      <td>33</td>\n",
              "      <td>secondary education</td>\n",
              "      <td>1</td>\n",
              "      <td>married</td>\n",
              "      <td>0</td>\n",
              "      <td>M</td>\n",
              "      <td>employee</td>\n",
              "      <td>0</td>\n",
              "      <td>145885.952297</td>\n",
              "      <td>purchase of the house</td>\n",
              "      <td>30-40</td>\n",
              "    </tr>\n",
              "    <tr>\n",
              "      <th>3</th>\n",
              "      <td>3</td>\n",
              "      <td>172</td>\n",
              "      <td>32</td>\n",
              "      <td>secondary education</td>\n",
              "      <td>1</td>\n",
              "      <td>married</td>\n",
              "      <td>0</td>\n",
              "      <td>M</td>\n",
              "      <td>employee</td>\n",
              "      <td>0</td>\n",
              "      <td>267628.550329</td>\n",
              "      <td>supplementary education</td>\n",
              "      <td>30-40</td>\n",
              "    </tr>\n",
              "    <tr>\n",
              "      <th>4</th>\n",
              "      <td>0</td>\n",
              "      <td>14178</td>\n",
              "      <td>53</td>\n",
              "      <td>secondary education</td>\n",
              "      <td>1</td>\n",
              "      <td>civil partnership</td>\n",
              "      <td>1</td>\n",
              "      <td>F</td>\n",
              "      <td>retiree</td>\n",
              "      <td>0</td>\n",
              "      <td>158616.077870</td>\n",
              "      <td>to have a wedding</td>\n",
              "      <td>50-60</td>\n",
              "    </tr>\n",
              "  </tbody>\n",
              "</table>\n",
              "</div>"
            ],
            "text/plain": [
              "   children  days_employed  dob_years            education  education_id  \\\n",
              "0         1            352         42       masters degree             0   \n",
              "1         1            168         36  secondary education             1   \n",
              "2         0            234         33  secondary education             1   \n",
              "3         3            172         32  secondary education             1   \n",
              "4         0          14178         53  secondary education             1   \n",
              "\n",
              "       family_status  family_status_id gender income_type  debt  \\\n",
              "0            married                 0      F    employee     0   \n",
              "1            married                 0      F    employee     0   \n",
              "2            married                 0      M    employee     0   \n",
              "3            married                 0      M    employee     0   \n",
              "4  civil partnership                 1      F     retiree     0   \n",
              "\n",
              "    total_income                  purpose age_range  \n",
              "0  253875.639453    purchase of the house     40-50  \n",
              "1  112080.014102             car purchase     30-40  \n",
              "2  145885.952297    purchase of the house     30-40  \n",
              "3  267628.550329  supplementary education     30-40  \n",
              "4  158616.077870        to have a wedding     50-60  "
            ]
          },
          "execution_count": 49,
          "metadata": {},
          "output_type": "execute_result"
        }
      ],
      "source": [
        "data_ref = df.dropna()\n",
        "data_ref.head()"
      ]
    },
    {
      "attachments": {},
      "cell_type": "markdown",
      "metadata": {
        "id": "UlzpJ0poCtvj"
      },
      "source": [
        "Vamos a eliminar los registros que tengan valor NaN o Nulo en total_income, nos interesa conocer el saldos real devengado por el cliente."
      ]
    },
    {
      "cell_type": "code",
      "execution_count": 50,
      "metadata": {
        "colab": {
          "base_uri": "https://localhost:8080/"
        },
        "id": "mFZYDQyCJ_V_",
        "outputId": "629be7a0-c73d-4042-ce26-fe303fc74d72"
      },
      "outputs": [],
      "source": [
        "df.dropna(subset=['total_income'], inplace=True)\n",
        "df = df.reset_index(drop=True)"
      ]
    },
    {
      "cell_type": "code",
      "execution_count": 51,
      "metadata": {
        "colab": {
          "base_uri": "https://localhost:8080/"
        },
        "id": "PcmrR8EEJ_V_",
        "outputId": "80ac429a-e6f1-4c7a-da9d-99b6a44916f1",
        "scrolled": true
      },
      "outputs": [
        {
          "name": "stdout",
          "output_type": "stream",
          "text": [
            "Mediana de ingresos por rango de edad: age_range\n",
            "10-20     93343.132708\n",
            "20-30    142495.364498\n",
            "30-40    154172.046996\n",
            "40-50    154723.102988\n",
            "50-60    138769.212810\n",
            "60+      123508.906819\n",
            "Name: total_income, dtype: float64\n"
          ]
        }
      ],
      "source": [
        "median = data_ref.groupby('age_range')['total_income'].median()\n",
        "print('Mediana de ingresos por rango de edad:', median)"
      ]
    },
    {
      "attachments": {},
      "cell_type": "markdown",
      "metadata": {
        "id": "AuucJ8coErov"
      },
      "source": [
        "**Sustituyendo Valores Ausentes**"
      ]
    },
    {
      "attachments": {},
      "cell_type": "markdown",
      "metadata": {
        "id": "S3R75ymBJ_WA"
      },
      "source": [
        "###  Restaurar valores en `days_employed`"
      ]
    },
    {
      "attachments": {},
      "cell_type": "markdown",
      "metadata": {
        "id": "fnhJs_X8J_WA"
      },
      "source": [
        "\n",
        "Ahora vamos a rellenar los valores ausentes en función del tipo de empleo pues tiene sentido que la experiencia laboral este en función de esta columna, para ello, buscaremos los datos de la media, la mediana y después, determinaremos cuales datos serán mejores para sustituirlos."
      ]
    },
    {
      "cell_type": "code",
      "execution_count": 52,
      "metadata": {
        "colab": {
          "base_uri": "https://localhost:8080/"
        },
        "id": "Q8otN1neJ_WA",
        "outputId": "cab66777-e44c-4e1d-b0d5-ff816216c88a",
        "scrolled": true
      },
      "outputs": [
        {
          "data": {
            "text/plain": [
              "days_employed\n",
              "8        201\n",
              "9        185\n",
              "10       169\n",
              "14       161\n",
              "18       156\n",
              "        ... \n",
              "14090      1\n",
              "16323      1\n",
              "15420      1\n",
              "15682      1\n",
              "15217      1\n",
              "Name: count, Length: 2615, dtype: int64"
            ]
          },
          "execution_count": 52,
          "metadata": {},
          "output_type": "execute_result"
        }
      ],
      "source": [
        "# Contar Ceros\n",
        "df['days_employed'].value_counts()"
      ]
    },
    {
      "cell_type": "code",
      "execution_count": 53,
      "metadata": {
        "colab": {
          "base_uri": "https://localhost:8080/"
        },
        "id": "98xi50JDJ_WA",
        "outputId": "48ae5ab5-b729-453d-bb1e-c7c2f5a4d09d",
        "pycharm": {
          "name": "#%%\n"
        }
      },
      "outputs": [
        {
          "data": {
            "text/plain": [
              "income_type\n",
              "civil servant                    112.0\n",
              "employee                          66.0\n",
              "entrepreneur                      22.0\n",
              "partner                           64.0\n",
              "paternity / maternity leave      137.0\n",
              "retiree                        15217.0\n",
              "student                           24.0\n",
              "unempoyed                      15267.5\n",
              "Name: days_employed, dtype: float64"
            ]
          },
          "execution_count": 53,
          "metadata": {},
          "output_type": "execute_result"
        }
      ],
      "source": [
        "# Distribución de las medianas de `days_employed` en función de los parámetros identificados\n",
        "gender_median = df.groupby('income_type')['days_employed'].median()\n",
        "gender_median"
      ]
    },
    {
      "cell_type": "code",
      "execution_count": 54,
      "metadata": {
        "colab": {
          "base_uri": "https://localhost:8080/"
        },
        "id": "twIFlQZXJ_WA",
        "outputId": "201737ae-38ac-45ce-b0d9-2308362948ab",
        "scrolled": true
      },
      "outputs": [
        {
          "data": {
            "text/plain": [
              "income_type\n",
              "civil servant                    142.0\n",
              "employee                          97.0\n",
              "entrepreneur                      22.0\n",
              "partner                           88.0\n",
              "paternity / maternity leave      137.0\n",
              "retiree                        15208.0\n",
              "student                           24.0\n",
              "unempoyed                      15268.0\n",
              "Name: days_employed, dtype: float64"
            ]
          },
          "execution_count": 54,
          "metadata": {},
          "output_type": "execute_result"
        }
      ],
      "source": [
        "# Distribución de las medias de `days_employed` en función de los parámetros identificados\n",
        "gender_mean = df.groupby('income_type')['days_employed'].mean().round()\n",
        "gender_mean"
      ]
    },
    {
      "attachments": {},
      "cell_type": "markdown",
      "metadata": {
        "id": "82VrhI8zJ_WA"
      },
      "source": [
        "Recordemos que nuestros datos nulos los transformamos en valores en ceros, por lo tanto, ahora vamos a sustituirlos por el valor de la mediana, para ello, vamos a desarrollar otra función que nos ayude a realizar esta sustitución."
      ]
    },
    {
      "cell_type": "code",
      "execution_count": 55,
      "metadata": {
        "id": "iBwkH_KNJ_WA"
      },
      "outputs": [],
      "source": [
        "def replace_days_employed(df):\n",
        "    gender_median = df.groupby('income_type')['days_employed'].median()\n",
        "    \n",
        "    df.loc[(df['income_type'] == 'entrepreneur' ) & (df['days_employed'] == 0), 'days_employed'] = gender_median.loc['entrepreneur']\n",
        "    df.loc[(df['income_type'] == 'civil servant' ) & (df['days_employed'] == 0), 'days_employed'] = gender_median.loc['civil servant']\n",
        "    df.loc[(df['income_type'] == 'employee' ) & (df['days_employed'] == 0), 'days_employed'] = gender_median.loc['employee']\n",
        "    df.loc[(df['income_type'] == 'paternity / maternity leave' ) & (df['days_employed'] == 0), 'days_employed'] = gender_median.loc['paternity / maternity leave']\n",
        "    df.loc[(df['income_type'] == 'retiree' ) & (df['days_employed'] == 0), 'days_employed'] = gender_median.loc['retiree']\n",
        "    df.loc[(df['income_type'] == 'student' ) & (df['days_employed'] == 0), 'days_employed'] = gender_median.loc['student']\n",
        "    df.loc[(df['income_type'] == 'unempoyed' ) & (df['days_employed'] == 0), 'days_employed'] = gender_median.loc['unempoyed']\n",
        "    df.loc[(df['income_type'] == 'partner' ) & (df['days_employed'] == 0), 'days_employed'] = gender_median.loc['partner']\n",
        "    \n",
        "    return df"
      ]
    },
    {
      "cell_type": "code",
      "execution_count": 56,
      "metadata": {},
      "outputs": [
        {
          "data": {
            "text/plain": [
              "0    employee\n",
              "1    employee\n",
              "2    employee\n",
              "3    employee\n",
              "4     retiree\n",
              "Name: income_type, dtype: object"
            ]
          },
          "execution_count": 56,
          "metadata": {},
          "output_type": "execute_result"
        }
      ],
      "source": [
        "df['income_type'].head()"
      ]
    },
    {
      "cell_type": "code",
      "execution_count": 57,
      "metadata": {
        "colab": {
          "base_uri": "https://localhost:8080/",
          "height": 424
        },
        "id": "dOqPE9xOJ_WA",
        "outputId": "348eacb9-26bd-4b26-db98-d6f15ba79f57"
      },
      "outputs": [
        {
          "data": {
            "text/html": [
              "<div>\n",
              "<style scoped>\n",
              "    .dataframe tbody tr th:only-of-type {\n",
              "        vertical-align: middle;\n",
              "    }\n",
              "\n",
              "    .dataframe tbody tr th {\n",
              "        vertical-align: top;\n",
              "    }\n",
              "\n",
              "    .dataframe thead th {\n",
              "        text-align: right;\n",
              "    }\n",
              "</style>\n",
              "<table border=\"1\" class=\"dataframe\">\n",
              "  <thead>\n",
              "    <tr style=\"text-align: right;\">\n",
              "      <th></th>\n",
              "      <th>children</th>\n",
              "      <th>days_employed</th>\n",
              "      <th>dob_years</th>\n",
              "      <th>education</th>\n",
              "      <th>education_id</th>\n",
              "      <th>family_status</th>\n",
              "      <th>family_status_id</th>\n",
              "      <th>gender</th>\n",
              "      <th>income_type</th>\n",
              "      <th>debt</th>\n",
              "      <th>total_income</th>\n",
              "      <th>purpose</th>\n",
              "      <th>age_range</th>\n",
              "    </tr>\n",
              "  </thead>\n",
              "  <tbody>\n",
              "    <tr>\n",
              "      <th>0</th>\n",
              "      <td>1</td>\n",
              "      <td>352.0</td>\n",
              "      <td>42</td>\n",
              "      <td>masters degree</td>\n",
              "      <td>0</td>\n",
              "      <td>married</td>\n",
              "      <td>0</td>\n",
              "      <td>F</td>\n",
              "      <td>employee</td>\n",
              "      <td>0</td>\n",
              "      <td>253875.639453</td>\n",
              "      <td>purchase of the house</td>\n",
              "      <td>40-50</td>\n",
              "    </tr>\n",
              "    <tr>\n",
              "      <th>1</th>\n",
              "      <td>1</td>\n",
              "      <td>168.0</td>\n",
              "      <td>36</td>\n",
              "      <td>secondary education</td>\n",
              "      <td>1</td>\n",
              "      <td>married</td>\n",
              "      <td>0</td>\n",
              "      <td>F</td>\n",
              "      <td>employee</td>\n",
              "      <td>0</td>\n",
              "      <td>112080.014102</td>\n",
              "      <td>car purchase</td>\n",
              "      <td>30-40</td>\n",
              "    </tr>\n",
              "    <tr>\n",
              "      <th>2</th>\n",
              "      <td>0</td>\n",
              "      <td>234.0</td>\n",
              "      <td>33</td>\n",
              "      <td>secondary education</td>\n",
              "      <td>1</td>\n",
              "      <td>married</td>\n",
              "      <td>0</td>\n",
              "      <td>M</td>\n",
              "      <td>employee</td>\n",
              "      <td>0</td>\n",
              "      <td>145885.952297</td>\n",
              "      <td>purchase of the house</td>\n",
              "      <td>30-40</td>\n",
              "    </tr>\n",
              "    <tr>\n",
              "      <th>3</th>\n",
              "      <td>3</td>\n",
              "      <td>172.0</td>\n",
              "      <td>32</td>\n",
              "      <td>secondary education</td>\n",
              "      <td>1</td>\n",
              "      <td>married</td>\n",
              "      <td>0</td>\n",
              "      <td>M</td>\n",
              "      <td>employee</td>\n",
              "      <td>0</td>\n",
              "      <td>267628.550329</td>\n",
              "      <td>supplementary education</td>\n",
              "      <td>30-40</td>\n",
              "    </tr>\n",
              "    <tr>\n",
              "      <th>4</th>\n",
              "      <td>0</td>\n",
              "      <td>14178.0</td>\n",
              "      <td>53</td>\n",
              "      <td>secondary education</td>\n",
              "      <td>1</td>\n",
              "      <td>civil partnership</td>\n",
              "      <td>1</td>\n",
              "      <td>F</td>\n",
              "      <td>retiree</td>\n",
              "      <td>0</td>\n",
              "      <td>158616.077870</td>\n",
              "      <td>to have a wedding</td>\n",
              "      <td>50-60</td>\n",
              "    </tr>\n",
              "    <tr>\n",
              "      <th>...</th>\n",
              "      <td>...</td>\n",
              "      <td>...</td>\n",
              "      <td>...</td>\n",
              "      <td>...</td>\n",
              "      <td>...</td>\n",
              "      <td>...</td>\n",
              "      <td>...</td>\n",
              "      <td>...</td>\n",
              "      <td>...</td>\n",
              "      <td>...</td>\n",
              "      <td>...</td>\n",
              "      <td>...</td>\n",
              "      <td>...</td>\n",
              "    </tr>\n",
              "    <tr>\n",
              "      <th>19346</th>\n",
              "      <td>1</td>\n",
              "      <td>189.0</td>\n",
              "      <td>43</td>\n",
              "      <td>secondary education</td>\n",
              "      <td>1</td>\n",
              "      <td>civil partnership</td>\n",
              "      <td>1</td>\n",
              "      <td>F</td>\n",
              "      <td>partner</td>\n",
              "      <td>0</td>\n",
              "      <td>224791.862382</td>\n",
              "      <td>housing transactions</td>\n",
              "      <td>40-50</td>\n",
              "    </tr>\n",
              "    <tr>\n",
              "      <th>19347</th>\n",
              "      <td>0</td>\n",
              "      <td>14331.0</td>\n",
              "      <td>67</td>\n",
              "      <td>secondary education</td>\n",
              "      <td>1</td>\n",
              "      <td>married</td>\n",
              "      <td>0</td>\n",
              "      <td>F</td>\n",
              "      <td>retiree</td>\n",
              "      <td>0</td>\n",
              "      <td>155999.806512</td>\n",
              "      <td>purchase of a car</td>\n",
              "      <td>60+</td>\n",
              "    </tr>\n",
              "    <tr>\n",
              "      <th>19348</th>\n",
              "      <td>1</td>\n",
              "      <td>88.0</td>\n",
              "      <td>38</td>\n",
              "      <td>secondary education</td>\n",
              "      <td>1</td>\n",
              "      <td>civil partnership</td>\n",
              "      <td>1</td>\n",
              "      <td>M</td>\n",
              "      <td>employee</td>\n",
              "      <td>1</td>\n",
              "      <td>89672.561153</td>\n",
              "      <td>property</td>\n",
              "      <td>30-40</td>\n",
              "    </tr>\n",
              "    <tr>\n",
              "      <th>19349</th>\n",
              "      <td>3</td>\n",
              "      <td>130.0</td>\n",
              "      <td>38</td>\n",
              "      <td>secondary education</td>\n",
              "      <td>1</td>\n",
              "      <td>married</td>\n",
              "      <td>0</td>\n",
              "      <td>M</td>\n",
              "      <td>employee</td>\n",
              "      <td>1</td>\n",
              "      <td>244093.050500</td>\n",
              "      <td>buying my own car</td>\n",
              "      <td>30-40</td>\n",
              "    </tr>\n",
              "    <tr>\n",
              "      <th>19350</th>\n",
              "      <td>2</td>\n",
              "      <td>83.0</td>\n",
              "      <td>40</td>\n",
              "      <td>secondary education</td>\n",
              "      <td>1</td>\n",
              "      <td>married</td>\n",
              "      <td>0</td>\n",
              "      <td>F</td>\n",
              "      <td>employee</td>\n",
              "      <td>0</td>\n",
              "      <td>82047.418899</td>\n",
              "      <td>to buy a car</td>\n",
              "      <td>40-50</td>\n",
              "    </tr>\n",
              "  </tbody>\n",
              "</table>\n",
              "<p>19351 rows × 13 columns</p>\n",
              "</div>"
            ],
            "text/plain": [
              "       children  days_employed  dob_years            education  education_id  \\\n",
              "0             1          352.0         42       masters degree             0   \n",
              "1             1          168.0         36  secondary education             1   \n",
              "2             0          234.0         33  secondary education             1   \n",
              "3             3          172.0         32  secondary education             1   \n",
              "4             0        14178.0         53  secondary education             1   \n",
              "...         ...            ...        ...                  ...           ...   \n",
              "19346         1          189.0         43  secondary education             1   \n",
              "19347         0        14331.0         67  secondary education             1   \n",
              "19348         1           88.0         38  secondary education             1   \n",
              "19349         3          130.0         38  secondary education             1   \n",
              "19350         2           83.0         40  secondary education             1   \n",
              "\n",
              "           family_status  family_status_id gender income_type  debt  \\\n",
              "0                married                 0      F    employee     0   \n",
              "1                married                 0      F    employee     0   \n",
              "2                married                 0      M    employee     0   \n",
              "3                married                 0      M    employee     0   \n",
              "4      civil partnership                 1      F     retiree     0   \n",
              "...                  ...               ...    ...         ...   ...   \n",
              "19346  civil partnership                 1      F     partner     0   \n",
              "19347            married                 0      F     retiree     0   \n",
              "19348  civil partnership                 1      M    employee     1   \n",
              "19349            married                 0      M    employee     1   \n",
              "19350            married                 0      F    employee     0   \n",
              "\n",
              "        total_income                  purpose age_range  \n",
              "0      253875.639453    purchase of the house     40-50  \n",
              "1      112080.014102             car purchase     30-40  \n",
              "2      145885.952297    purchase of the house     30-40  \n",
              "3      267628.550329  supplementary education     30-40  \n",
              "4      158616.077870        to have a wedding     50-60  \n",
              "...              ...                      ...       ...  \n",
              "19346  224791.862382     housing transactions     40-50  \n",
              "19347  155999.806512        purchase of a car       60+  \n",
              "19348   89672.561153                 property     30-40  \n",
              "19349  244093.050500        buying my own car     30-40  \n",
              "19350   82047.418899             to buy a car     40-50  \n",
              "\n",
              "[19351 rows x 13 columns]"
            ]
          },
          "execution_count": 57,
          "metadata": {},
          "output_type": "execute_result"
        }
      ],
      "source": [
        "# Comprobando la función\n",
        "replace_days_employed(df)"
      ]
    },
    {
      "attachments": {},
      "cell_type": "markdown",
      "metadata": {
        "id": "YUrprusDHoxK"
      },
      "source": [
        "**Sustituyendo valores en days employed**"
      ]
    },
    {
      "cell_type": "code",
      "execution_count": 58,
      "metadata": {
        "colab": {
          "base_uri": "https://localhost:8080/"
        },
        "id": "Znj97JCfJ_WA",
        "outputId": "bc867356-2b69-4561-c1be-682b0c6ac052"
      },
      "outputs": [
        {
          "data": {
            "text/plain": [
              "days_employed\n",
              "8.0        201\n",
              "9.0        185\n",
              "10.0       169\n",
              "14.0       161\n",
              "18.0       156\n",
              "          ... \n",
              "14090.0      1\n",
              "16323.0      1\n",
              "15420.0      1\n",
              "15682.0      1\n",
              "15217.0      1\n",
              "Name: count, Length: 2615, dtype: int64"
            ]
          },
          "execution_count": 58,
          "metadata": {},
          "output_type": "execute_result"
        }
      ],
      "source": [
        "# Aplicar la función al income_type\n",
        "df = replace_days_employed(df)\n",
        "df['days_employed'].value_counts()"
      ]
    },
    {
      "cell_type": "code",
      "execution_count": 59,
      "metadata": {
        "colab": {
          "base_uri": "https://localhost:8080/"
        },
        "id": "B_tFi5CRJ_WB",
        "outputId": "44f52026-803e-4b84-91a0-eabd35ed1a4f"
      },
      "outputs": [
        {
          "data": {
            "text/plain": [
              "0"
            ]
          },
          "execution_count": 59,
          "metadata": {},
          "output_type": "execute_result"
        }
      ],
      "source": [
        "# Conteo de NaN\n",
        "df['days_employed'].isna().sum()"
      ]
    },
    {
      "attachments": {},
      "cell_type": "markdown",
      "metadata": {
        "id": "wRamYXrRIXbI"
      },
      "source": [
        "**Comprobando NaN en el Dataset**"
      ]
    },
    {
      "cell_type": "code",
      "execution_count": 60,
      "metadata": {
        "colab": {
          "base_uri": "https://localhost:8080/"
        },
        "id": "kVFQ_i4SJ_WB",
        "outputId": "eee8eec6-8b34-4f76-91ec-417a98883a16"
      },
      "outputs": [
        {
          "data": {
            "text/plain": [
              "children            0\n",
              "days_employed       0\n",
              "dob_years           0\n",
              "education           0\n",
              "education_id        0\n",
              "family_status       0\n",
              "family_status_id    0\n",
              "gender              0\n",
              "income_type         0\n",
              "debt                0\n",
              "total_income        0\n",
              "purpose             0\n",
              "age_range           0\n",
              "dtype: int64"
            ]
          },
          "execution_count": 60,
          "metadata": {},
          "output_type": "execute_result"
        }
      ],
      "source": [
        "df.isna().sum()"
      ]
    },
    {
      "attachments": {},
      "cell_type": "markdown",
      "metadata": {
        "id": "38yfWMM8J_WB"
      },
      "source": [
        "### Modulo 4 : Clasificación de datos\n",
        "---\n",
        "\n",
        "Para poder responder al proposito del proyecto. A continuación vamos a clasificar los datos en función de las siguientes columnas:\n",
        "\n",
        "1. Cantidad de Hijos\n",
        "2. Incumplimiento de Pagos\n",
        "3. Estado Civil\n",
        "4. Ingreso Mensual"
      ]
    },
    {
      "cell_type": "code",
      "execution_count": 61,
      "metadata": {
        "colab": {
          "base_uri": "https://localhost:8080/"
        },
        "id": "ccR-h2ryJ_WB",
        "outputId": "15c9170d-3b29-432e-d201-7bdd807871c3",
        "scrolled": false
      },
      "outputs": [
        {
          "data": {
            "text/plain": [
              "children\n",
              "0    12710\n",
              "1     4387\n",
              "2     1918\n",
              "3      294\n",
              "4       34\n",
              "5        8\n",
              "Name: count, dtype: int64"
            ]
          },
          "execution_count": 61,
          "metadata": {},
          "output_type": "execute_result"
        }
      ],
      "source": [
        "# Valores de los datos seleccionados para la clasificación\n",
        "df['children'].value_counts()"
      ]
    },
    {
      "attachments": {},
      "cell_type": "markdown",
      "metadata": {
        "id": "GRQC4xVsJ_WB"
      },
      "source": [
        "En este punto vamos a clasificar la columna 'debt' creando una nueva columna llamada 'debt_name' en la cual, para fines prácticos, se colocarán las siguientes anotaciones: no deudor = 0 y deudor = 1, para lograrlo, desarrollaremos una función que nos permita clasificar los datos."
      ]
    },
    {
      "cell_type": "code",
      "execution_count": 62,
      "metadata": {
        "colab": {
          "base_uri": "https://localhost:8080/"
        },
        "id": "nWwr23MQJ_WB",
        "outputId": "11e1ff8d-ad5d-45f9-833c-de96075038bb"
      },
      "outputs": [
        {
          "data": {
            "text/plain": [
              "debt\n",
              "0    17780\n",
              "1     1571\n",
              "Name: count, dtype: int64"
            ]
          },
          "execution_count": 62,
          "metadata": {},
          "output_type": "execute_result"
        }
      ],
      "source": [
        "# Contando valores\n",
        "df['debt'].value_counts()"
      ]
    },
    {
      "cell_type": "code",
      "execution_count": 63,
      "metadata": {
        "id": "7j6_b72_J_WB"
      },
      "outputs": [],
      "source": [
        "#Creamos una función para nuestra nueva columna\n",
        "def debt_name(row):\n",
        "    if row['debt'] == 0:\n",
        "        return 'no deudor'\n",
        "    else:\n",
        "        return 'deudor'"
      ]
    },
    {
      "cell_type": "code",
      "execution_count": 64,
      "metadata": {
        "colab": {
          "base_uri": "https://localhost:8080/"
        },
        "id": "QZH-AFBQJ_WB",
        "outputId": "cc4ca2ef-6333-4cda-e640-e1b7bdfeec1d"
      },
      "outputs": [
        {
          "data": {
            "text/plain": [
              "0        no deudor\n",
              "1        no deudor\n",
              "2        no deudor\n",
              "3        no deudor\n",
              "4        no deudor\n",
              "           ...    \n",
              "19346    no deudor\n",
              "19347    no deudor\n",
              "19348       deudor\n",
              "19349       deudor\n",
              "19350    no deudor\n",
              "Length: 19351, dtype: object"
            ]
          },
          "execution_count": 64,
          "metadata": {},
          "output_type": "execute_result"
        }
      ],
      "source": [
        "# Comprobamos que funcione\n",
        "df.apply(debt_name, axis=1)"
      ]
    },
    {
      "attachments": {},
      "cell_type": "markdown",
      "metadata": {
        "id": "emkENczTSPru"
      },
      "source": [
        "**Creando clasificación en Debt**"
      ]
    },
    {
      "cell_type": "code",
      "execution_count": 65,
      "metadata": {
        "colab": {
          "base_uri": "https://localhost:8080/",
          "height": 206
        },
        "id": "wUNjXV9xJ_WB",
        "outputId": "8a3ef5a6-b668-4b88-9cc1-5ce9a46c36c4"
      },
      "outputs": [
        {
          "data": {
            "text/html": [
              "<div>\n",
              "<style scoped>\n",
              "    .dataframe tbody tr th:only-of-type {\n",
              "        vertical-align: middle;\n",
              "    }\n",
              "\n",
              "    .dataframe tbody tr th {\n",
              "        vertical-align: top;\n",
              "    }\n",
              "\n",
              "    .dataframe thead th {\n",
              "        text-align: right;\n",
              "    }\n",
              "</style>\n",
              "<table border=\"1\" class=\"dataframe\">\n",
              "  <thead>\n",
              "    <tr style=\"text-align: right;\">\n",
              "      <th></th>\n",
              "      <th>children</th>\n",
              "      <th>days_employed</th>\n",
              "      <th>dob_years</th>\n",
              "      <th>education</th>\n",
              "      <th>education_id</th>\n",
              "      <th>family_status</th>\n",
              "      <th>family_status_id</th>\n",
              "      <th>gender</th>\n",
              "      <th>income_type</th>\n",
              "      <th>debt</th>\n",
              "      <th>total_income</th>\n",
              "      <th>purpose</th>\n",
              "      <th>age_range</th>\n",
              "      <th>debt_name</th>\n",
              "    </tr>\n",
              "  </thead>\n",
              "  <tbody>\n",
              "    <tr>\n",
              "      <th>0</th>\n",
              "      <td>1</td>\n",
              "      <td>352.0</td>\n",
              "      <td>42</td>\n",
              "      <td>masters degree</td>\n",
              "      <td>0</td>\n",
              "      <td>married</td>\n",
              "      <td>0</td>\n",
              "      <td>F</td>\n",
              "      <td>employee</td>\n",
              "      <td>0</td>\n",
              "      <td>253875.639453</td>\n",
              "      <td>purchase of the house</td>\n",
              "      <td>40-50</td>\n",
              "      <td>no deudor</td>\n",
              "    </tr>\n",
              "    <tr>\n",
              "      <th>1</th>\n",
              "      <td>1</td>\n",
              "      <td>168.0</td>\n",
              "      <td>36</td>\n",
              "      <td>secondary education</td>\n",
              "      <td>1</td>\n",
              "      <td>married</td>\n",
              "      <td>0</td>\n",
              "      <td>F</td>\n",
              "      <td>employee</td>\n",
              "      <td>0</td>\n",
              "      <td>112080.014102</td>\n",
              "      <td>car purchase</td>\n",
              "      <td>30-40</td>\n",
              "      <td>no deudor</td>\n",
              "    </tr>\n",
              "    <tr>\n",
              "      <th>2</th>\n",
              "      <td>0</td>\n",
              "      <td>234.0</td>\n",
              "      <td>33</td>\n",
              "      <td>secondary education</td>\n",
              "      <td>1</td>\n",
              "      <td>married</td>\n",
              "      <td>0</td>\n",
              "      <td>M</td>\n",
              "      <td>employee</td>\n",
              "      <td>0</td>\n",
              "      <td>145885.952297</td>\n",
              "      <td>purchase of the house</td>\n",
              "      <td>30-40</td>\n",
              "      <td>no deudor</td>\n",
              "    </tr>\n",
              "    <tr>\n",
              "      <th>3</th>\n",
              "      <td>3</td>\n",
              "      <td>172.0</td>\n",
              "      <td>32</td>\n",
              "      <td>secondary education</td>\n",
              "      <td>1</td>\n",
              "      <td>married</td>\n",
              "      <td>0</td>\n",
              "      <td>M</td>\n",
              "      <td>employee</td>\n",
              "      <td>0</td>\n",
              "      <td>267628.550329</td>\n",
              "      <td>supplementary education</td>\n",
              "      <td>30-40</td>\n",
              "      <td>no deudor</td>\n",
              "    </tr>\n",
              "    <tr>\n",
              "      <th>4</th>\n",
              "      <td>0</td>\n",
              "      <td>14178.0</td>\n",
              "      <td>53</td>\n",
              "      <td>secondary education</td>\n",
              "      <td>1</td>\n",
              "      <td>civil partnership</td>\n",
              "      <td>1</td>\n",
              "      <td>F</td>\n",
              "      <td>retiree</td>\n",
              "      <td>0</td>\n",
              "      <td>158616.077870</td>\n",
              "      <td>to have a wedding</td>\n",
              "      <td>50-60</td>\n",
              "      <td>no deudor</td>\n",
              "    </tr>\n",
              "  </tbody>\n",
              "</table>\n",
              "</div>"
            ],
            "text/plain": [
              "   children  days_employed  dob_years            education  education_id  \\\n",
              "0         1          352.0         42       masters degree             0   \n",
              "1         1          168.0         36  secondary education             1   \n",
              "2         0          234.0         33  secondary education             1   \n",
              "3         3          172.0         32  secondary education             1   \n",
              "4         0        14178.0         53  secondary education             1   \n",
              "\n",
              "       family_status  family_status_id gender income_type  debt  \\\n",
              "0            married                 0      F    employee     0   \n",
              "1            married                 0      F    employee     0   \n",
              "2            married                 0      M    employee     0   \n",
              "3            married                 0      M    employee     0   \n",
              "4  civil partnership                 1      F     retiree     0   \n",
              "\n",
              "    total_income                  purpose age_range  debt_name  \n",
              "0  253875.639453    purchase of the house     40-50  no deudor  \n",
              "1  112080.014102             car purchase     30-40  no deudor  \n",
              "2  145885.952297    purchase of the house     30-40  no deudor  \n",
              "3  267628.550329  supplementary education     30-40  no deudor  \n",
              "4  158616.077870        to have a wedding     50-60  no deudor  "
            ]
          },
          "execution_count": 65,
          "metadata": {},
          "output_type": "execute_result"
        }
      ],
      "source": [
        "df['debt_name'] = df.apply(debt_name, axis=1)\n",
        "df.head()"
      ]
    },
    {
      "attachments": {},
      "cell_type": "markdown",
      "metadata": {
        "id": "5QkeX5zPbnKz"
      },
      "source": []
    },
    {
      "attachments": {},
      "cell_type": "markdown",
      "metadata": {
        "id": "DERd65SRbnMG"
      },
      "source": [
        "Revisamos el resto de variables que vamos a utilizar"
      ]
    },
    {
      "cell_type": "code",
      "execution_count": 66,
      "metadata": {
        "colab": {
          "base_uri": "https://localhost:8080/"
        },
        "id": "sXzzQOyBJ_WB",
        "outputId": "46624a87-ec52-46a9-f223-67cab9e84ec0"
      },
      "outputs": [
        {
          "data": {
            "text/plain": [
              "family_status\n",
              "married              11143\n",
              "civil partnership     3735\n",
              "unmarried             2525\n",
              "divorced              1083\n",
              "widow / widower        865\n",
              "Name: count, dtype: int64"
            ]
          },
          "execution_count": 66,
          "metadata": {},
          "output_type": "execute_result"
        }
      ],
      "source": [
        "df['family_status'].value_counts()"
      ]
    },
    {
      "cell_type": "code",
      "execution_count": 67,
      "metadata": {
        "colab": {
          "base_uri": "https://localhost:8080/"
        },
        "id": "NbBbA32YJ_WB",
        "outputId": "f1ac7ff7-0cca-4c53-eece-a9c43925feeb"
      },
      "outputs": [
        {
          "data": {
            "text/plain": [
              "total_income\n",
              "253875.639453    1\n",
              "157691.851056    1\n",
              "70113.902786     1\n",
              "116196.518662    1\n",
              "157205.834562    1\n",
              "                ..\n",
              "168880.592469    1\n",
              "148042.721049    1\n",
              "60039.334460     1\n",
              "175979.762960    1\n",
              "82047.418899     1\n",
              "Name: count, Length: 19351, dtype: int64"
            ]
          },
          "execution_count": 67,
          "metadata": {},
          "output_type": "execute_result"
        }
      ],
      "source": [
        "df['total_income'].value_counts()"
      ]
    },
    {
      "attachments": {},
      "cell_type": "markdown",
      "metadata": {
        "id": "HmBsi5klJ_WC"
      },
      "source": [
        "Vamos a comprobar los valores únicos"
      ]
    },
    {
      "cell_type": "code",
      "execution_count": 68,
      "metadata": {
        "colab": {
          "base_uri": "https://localhost:8080/"
        },
        "id": "jVJDsG-QJ_WC",
        "outputId": "d0bd210e-8760-4098-8d0e-02269d96e129"
      },
      "outputs": [
        {
          "data": {
            "text/plain": [
              "array([1, 0, 3, 2, 4, 5], dtype=int64)"
            ]
          },
          "execution_count": 68,
          "metadata": {},
          "output_type": "execute_result"
        }
      ],
      "source": [
        "# Comprobar los valores únicos\n",
        "df['children'].unique()"
      ]
    },
    {
      "cell_type": "code",
      "execution_count": 69,
      "metadata": {
        "colab": {
          "base_uri": "https://localhost:8080/"
        },
        "id": "tSrfF_jfJ_WC",
        "outputId": "b60b8984-c185-4494-da52-8344246b2b44"
      },
      "outputs": [
        {
          "data": {
            "text/plain": [
              "array([0, 1], dtype=int64)"
            ]
          },
          "execution_count": 69,
          "metadata": {},
          "output_type": "execute_result"
        }
      ],
      "source": [
        "df['debt'].unique()"
      ]
    },
    {
      "cell_type": "code",
      "execution_count": 70,
      "metadata": {
        "colab": {
          "base_uri": "https://localhost:8080/"
        },
        "id": "GMp84wpiJ_WC",
        "outputId": "61c0450a-5221-4f84-c1e3-aadc76dc3d38"
      },
      "outputs": [
        {
          "data": {
            "text/plain": [
              "array(['married', 'civil partnership', 'widow / widower', 'divorced',\n",
              "       'unmarried'], dtype=object)"
            ]
          },
          "execution_count": 70,
          "metadata": {},
          "output_type": "execute_result"
        }
      ],
      "source": [
        "df['family_status'].unique()"
      ]
    },
    {
      "cell_type": "code",
      "execution_count": 71,
      "metadata": {
        "colab": {
          "base_uri": "https://localhost:8080/"
        },
        "id": "zbVfO1pTJ_WC",
        "outputId": "dd600c3b-73cf-4979-b610-32d576deebe4"
      },
      "outputs": [
        {
          "data": {
            "text/plain": [
              "array([253875.6394526 , 112080.01410244, 145885.95229686, ...,\n",
              "        89672.56115303, 244093.05050043,  82047.41889948])"
            ]
          },
          "execution_count": 71,
          "metadata": {},
          "output_type": "execute_result"
        }
      ],
      "source": [
        "df['total_income'].unique()"
      ]
    },
    {
      "attachments": {},
      "cell_type": "markdown",
      "metadata": {
        "id": "BSRhvu2gJ_WC"
      },
      "source": [
        "La siguiente clasificación será si tienen hijos y el incumplimiento de un pago, para ello, vamos a crear una nueva columna con esta clasificación de hijos que usaremos más adelante para conocer estos datos."
      ]
    },
    {
      "cell_type": "code",
      "execution_count": 72,
      "metadata": {
        "id": "4YZTBk5JJ_WC"
      },
      "outputs": [],
      "source": [
        "# Función para clasificar los datos\n",
        "children_ref = df[['children', 'debt']]\n",
        "\n",
        "def children_range(row):\n",
        "    if row['children'] == 0:\n",
        "        return 'sin hijos'\n",
        "    else:\n",
        "        return 'con hijos'\n"
      ]
    },
    {
      "cell_type": "code",
      "execution_count": 73,
      "metadata": {
        "id": "ze3sGXj-J_WC"
      },
      "outputs": [],
      "source": [
        "# Creando columna con las categorías y cuenta los valores en ellas\n",
        "df['children_range'] = df.apply(children_range, axis=1)"
      ]
    },
    {
      "cell_type": "code",
      "execution_count": 74,
      "metadata": {
        "colab": {
          "base_uri": "https://localhost:8080/"
        },
        "id": "Uoc2WnfNJ_WC",
        "outputId": "ab69b692-6291-4562-a65c-744b61055fb8"
      },
      "outputs": [
        {
          "data": {
            "text/plain": [
              "children_range\n",
              "sin hijos    12710\n",
              "con hijos     6641\n",
              "Name: count, dtype: int64"
            ]
          },
          "execution_count": 74,
          "metadata": {},
          "output_type": "execute_result"
        }
      ],
      "source": [
        "# Revisando todos los datos numéricos en la columna seleccionada para la clasificación\n",
        "df['children_range'].value_counts()"
      ]
    },
    {
      "cell_type": "code",
      "execution_count": 75,
      "metadata": {
        "colab": {
          "base_uri": "https://localhost:8080/"
        },
        "id": "CHgwctG6J_WC",
        "outputId": "3fb6e89e-4c6a-4d76-879a-b76014363895",
        "scrolled": true
      },
      "outputs": [
        {
          "data": {
            "text/plain": [
              "count         19351\n",
              "unique            2\n",
              "top       sin hijos\n",
              "freq          12710\n",
              "Name: children_range, dtype: object"
            ]
          },
          "execution_count": 75,
          "metadata": {},
          "output_type": "execute_result"
        }
      ],
      "source": [
        "# Estadísticas resumidas para la columna\n",
        "df['children_range'].describe()"
      ]
    },
    {
      "attachments": {},
      "cell_type": "markdown",
      "metadata": {
        "id": "Xf6vBbd8J_WC"
      },
      "source": [
        "**Clasificación del ingreso mensual**"
      ]
    },
    {
      "cell_type": "code",
      "execution_count": 76,
      "metadata": {
        "colab": {
          "base_uri": "https://localhost:8080/"
        },
        "id": "jhGetpwuJ_WC",
        "outputId": "5d9e41ee-eb4c-4e8f-f40d-747424521592"
      },
      "outputs": [
        {
          "data": {
            "text/plain": [
              "count    1.935100e+04\n",
              "mean     1.674223e+05\n",
              "std      1.029716e+05\n",
              "min      2.066726e+04\n",
              "25%      1.030532e+05\n",
              "50%      1.450179e+05\n",
              "75%      2.034351e+05\n",
              "max      2.265604e+06\n",
              "Name: total_income, dtype: float64"
            ]
          },
          "execution_count": 76,
          "metadata": {},
          "output_type": "execute_result"
        }
      ],
      "source": [
        "# Estadísticas resumidas\n",
        "df['total_income'].describe()"
      ]
    },
    {
      "attachments": {},
      "cell_type": "markdown",
      "metadata": {
        "id": "hA4XlaoeJ_WD"
      },
      "source": [
        "Vamos a crear la función utilizando rangos en multiplos de 3, la razón de esto es porque tomamos como referencia el dataframe con la función describe y sus valores."
      ]
    },
    {
      "cell_type": "code",
      "execution_count": 77,
      "metadata": {
        "id": "z7A3mIavJ_WD"
      },
      "outputs": [],
      "source": [
        "# Función para clasificar en diferentes grupos numéricos basándose en rangos\n",
        "def income_range(row):\n",
        "    if row['total_income'] < 3000:\n",
        "        return '0 - 3000'\n",
        "    elif row['total_income'] < 9000:\n",
        "        return '3000 - 9000'\n",
        "    elif row['total_income'] < 15000:\n",
        "        return '9000 - 15000'\n",
        "    elif row['total_income'] < 21000:\n",
        "        return '15000 - 21000'\n",
        "    elif row['total_income'] < 27000:\n",
        "        return '21000 - 27000'\n",
        "    else:\n",
        "        return '27000+'"
      ]
    },
    {
      "attachments": {},
      "cell_type": "markdown",
      "metadata": {
        "id": "Bso36BbDdxMD"
      },
      "source": [
        "Creando columna nueva con categorías de ingresos"
      ]
    },
    {
      "cell_type": "code",
      "execution_count": 78,
      "metadata": {
        "id": "hX2sTM50J_WD"
      },
      "outputs": [],
      "source": [
        "df['income_range'] = df.apply(income_range, axis=1)"
      ]
    },
    {
      "cell_type": "code",
      "execution_count": 79,
      "metadata": {
        "colab": {
          "base_uri": "https://localhost:8080/"
        },
        "id": "VdsBrPCRJ_WD",
        "outputId": "3a9aca4b-2dcb-472d-f3b9-d8cdc77021d9"
      },
      "outputs": [
        {
          "data": {
            "text/plain": [
              "income_range\n",
              "15000 - 21000        1\n",
              "21000 - 27000       11\n",
              "27000+           19339\n",
              "Name: count, dtype: int64"
            ]
          },
          "execution_count": 79,
          "metadata": {},
          "output_type": "execute_result"
        }
      ],
      "source": [
        "# Distribución de categorías\n",
        "df['income_range'].value_counts().sort_values()"
      ]
    },
    {
      "attachments": {},
      "cell_type": "markdown",
      "metadata": {
        "id": "1MgLKvFhJ_WD"
      },
      "source": [
        "**Vamos a clasificar la columna de 'purpose'** <a id=\"back\"> </a>"
      ]
    },
    {
      "cell_type": "code",
      "execution_count": 80,
      "metadata": {
        "id": "uVsznsqQJ_WD"
      },
      "outputs": [],
      "source": [
        "# Función para clasificar los datos\n",
        "def change_purpose(row):\n",
        "    purpose_category='unknow'\n",
        "    \n",
        "    if 'wedding' in row['purpose']:\n",
        "        purpose_category='wedding'\n",
        "       \n",
        "    \n",
        "    elif ('real' in row['purpose']) or ('state' in row['purpose']) or ('house' in row['purpose']) or ('property' in row['purpose']) or ('housing' in row['purpose']):\n",
        "        purpose_category='real estate'\n",
        "       \n",
        "    \n",
        "    elif 'car' in row['purpose']:\n",
        "        purpose_category='car'\n",
        "        \n",
        "    elif ('education' in row['purpose']) or ('educated' in row['purpose']) or ('university' in row['purpose']):\n",
        "        purpose_category='education'\n",
        "    \n",
        "    return purpose_category"
      ]
    },
    {
      "cell_type": "code",
      "execution_count": 81,
      "metadata": {
        "colab": {
          "base_uri": "https://localhost:8080/"
        },
        "id": "4r1Dw6j1J_WD",
        "outputId": "9ef0e3d6-57fb-456f-9e8e-d4fb07e8b453"
      },
      "outputs": [
        {
          "data": {
            "text/plain": [
              "real estate    9758\n",
              "car            3897\n",
              "education      3597\n",
              "wedding        2099\n",
              "Name: count, dtype: int64"
            ]
          },
          "execution_count": 81,
          "metadata": {},
          "output_type": "execute_result"
        }
      ],
      "source": [
        "# Comprobamos la función\n",
        "df.apply(change_purpose, axis=1).value_counts()"
      ]
    },
    {
      "attachments": {},
      "cell_type": "markdown",
      "metadata": {
        "id": "jqwuCvQtemry"
      },
      "source": [
        "Creando nueva clasificación y verificamos"
      ]
    },
    {
      "cell_type": "code",
      "execution_count": 82,
      "metadata": {
        "colab": {
          "base_uri": "https://localhost:8080/",
          "height": 357
        },
        "id": "f-zaNNjhJ_WD",
        "outputId": "9a927eea-f14e-4072-dcc2-e1ad24efd176"
      },
      "outputs": [
        {
          "data": {
            "text/html": [
              "<div>\n",
              "<style scoped>\n",
              "    .dataframe tbody tr th:only-of-type {\n",
              "        vertical-align: middle;\n",
              "    }\n",
              "\n",
              "    .dataframe tbody tr th {\n",
              "        vertical-align: top;\n",
              "    }\n",
              "\n",
              "    .dataframe thead th {\n",
              "        text-align: right;\n",
              "    }\n",
              "</style>\n",
              "<table border=\"1\" class=\"dataframe\">\n",
              "  <thead>\n",
              "    <tr style=\"text-align: right;\">\n",
              "      <th></th>\n",
              "      <th>children</th>\n",
              "      <th>days_employed</th>\n",
              "      <th>dob_years</th>\n",
              "      <th>education</th>\n",
              "      <th>education_id</th>\n",
              "      <th>family_status</th>\n",
              "      <th>family_status_id</th>\n",
              "      <th>gender</th>\n",
              "      <th>income_type</th>\n",
              "      <th>debt</th>\n",
              "      <th>total_income</th>\n",
              "      <th>purpose</th>\n",
              "      <th>age_range</th>\n",
              "      <th>debt_name</th>\n",
              "      <th>children_range</th>\n",
              "      <th>income_range</th>\n",
              "      <th>purpose_classified</th>\n",
              "    </tr>\n",
              "  </thead>\n",
              "  <tbody>\n",
              "    <tr>\n",
              "      <th>0</th>\n",
              "      <td>1</td>\n",
              "      <td>352.0</td>\n",
              "      <td>42</td>\n",
              "      <td>masters degree</td>\n",
              "      <td>0</td>\n",
              "      <td>married</td>\n",
              "      <td>0</td>\n",
              "      <td>F</td>\n",
              "      <td>employee</td>\n",
              "      <td>0</td>\n",
              "      <td>253875.639453</td>\n",
              "      <td>purchase of the house</td>\n",
              "      <td>40-50</td>\n",
              "      <td>no deudor</td>\n",
              "      <td>con hijos</td>\n",
              "      <td>27000+</td>\n",
              "      <td>real estate</td>\n",
              "    </tr>\n",
              "    <tr>\n",
              "      <th>1</th>\n",
              "      <td>1</td>\n",
              "      <td>168.0</td>\n",
              "      <td>36</td>\n",
              "      <td>secondary education</td>\n",
              "      <td>1</td>\n",
              "      <td>married</td>\n",
              "      <td>0</td>\n",
              "      <td>F</td>\n",
              "      <td>employee</td>\n",
              "      <td>0</td>\n",
              "      <td>112080.014102</td>\n",
              "      <td>car purchase</td>\n",
              "      <td>30-40</td>\n",
              "      <td>no deudor</td>\n",
              "      <td>con hijos</td>\n",
              "      <td>27000+</td>\n",
              "      <td>car</td>\n",
              "    </tr>\n",
              "    <tr>\n",
              "      <th>2</th>\n",
              "      <td>0</td>\n",
              "      <td>234.0</td>\n",
              "      <td>33</td>\n",
              "      <td>secondary education</td>\n",
              "      <td>1</td>\n",
              "      <td>married</td>\n",
              "      <td>0</td>\n",
              "      <td>M</td>\n",
              "      <td>employee</td>\n",
              "      <td>0</td>\n",
              "      <td>145885.952297</td>\n",
              "      <td>purchase of the house</td>\n",
              "      <td>30-40</td>\n",
              "      <td>no deudor</td>\n",
              "      <td>sin hijos</td>\n",
              "      <td>27000+</td>\n",
              "      <td>real estate</td>\n",
              "    </tr>\n",
              "    <tr>\n",
              "      <th>3</th>\n",
              "      <td>3</td>\n",
              "      <td>172.0</td>\n",
              "      <td>32</td>\n",
              "      <td>secondary education</td>\n",
              "      <td>1</td>\n",
              "      <td>married</td>\n",
              "      <td>0</td>\n",
              "      <td>M</td>\n",
              "      <td>employee</td>\n",
              "      <td>0</td>\n",
              "      <td>267628.550329</td>\n",
              "      <td>supplementary education</td>\n",
              "      <td>30-40</td>\n",
              "      <td>no deudor</td>\n",
              "      <td>con hijos</td>\n",
              "      <td>27000+</td>\n",
              "      <td>education</td>\n",
              "    </tr>\n",
              "    <tr>\n",
              "      <th>4</th>\n",
              "      <td>0</td>\n",
              "      <td>14178.0</td>\n",
              "      <td>53</td>\n",
              "      <td>secondary education</td>\n",
              "      <td>1</td>\n",
              "      <td>civil partnership</td>\n",
              "      <td>1</td>\n",
              "      <td>F</td>\n",
              "      <td>retiree</td>\n",
              "      <td>0</td>\n",
              "      <td>158616.077870</td>\n",
              "      <td>to have a wedding</td>\n",
              "      <td>50-60</td>\n",
              "      <td>no deudor</td>\n",
              "      <td>sin hijos</td>\n",
              "      <td>27000+</td>\n",
              "      <td>wedding</td>\n",
              "    </tr>\n",
              "  </tbody>\n",
              "</table>\n",
              "</div>"
            ],
            "text/plain": [
              "   children  days_employed  dob_years            education  education_id  \\\n",
              "0         1          352.0         42       masters degree             0   \n",
              "1         1          168.0         36  secondary education             1   \n",
              "2         0          234.0         33  secondary education             1   \n",
              "3         3          172.0         32  secondary education             1   \n",
              "4         0        14178.0         53  secondary education             1   \n",
              "\n",
              "       family_status  family_status_id gender income_type  debt  \\\n",
              "0            married                 0      F    employee     0   \n",
              "1            married                 0      F    employee     0   \n",
              "2            married                 0      M    employee     0   \n",
              "3            married                 0      M    employee     0   \n",
              "4  civil partnership                 1      F     retiree     0   \n",
              "\n",
              "    total_income                  purpose age_range  debt_name children_range  \\\n",
              "0  253875.639453    purchase of the house     40-50  no deudor      con hijos   \n",
              "1  112080.014102             car purchase     30-40  no deudor      con hijos   \n",
              "2  145885.952297    purchase of the house     30-40  no deudor      sin hijos   \n",
              "3  267628.550329  supplementary education     30-40  no deudor      con hijos   \n",
              "4  158616.077870        to have a wedding     50-60  no deudor      sin hijos   \n",
              "\n",
              "  income_range purpose_classified  \n",
              "0       27000+        real estate  \n",
              "1       27000+                car  \n",
              "2       27000+        real estate  \n",
              "3       27000+          education  \n",
              "4       27000+            wedding  "
            ]
          },
          "execution_count": 82,
          "metadata": {},
          "output_type": "execute_result"
        }
      ],
      "source": [
        "df['purpose_classified'] = df.apply(change_purpose, axis=1)\n",
        "df.head()"
      ]
    },
    {
      "attachments": {},
      "cell_type": "markdown",
      "metadata": {
        "id": "o6aDZWi_J_WD"
      },
      "source": [
        "### Modulo 5: Comprobación\n",
        "---"
      ]
    },
    {
      "attachments": {},
      "cell_type": "markdown",
      "metadata": {
        "id": "Wilf-5CmJ_WD"
      },
      "source": [
        "Una vez que tenemos todo nuestro set de datos clasificado ahora vamos a comprobar."
      ]
    },
    {
      "attachments": {},
      "cell_type": "markdown",
      "metadata": {
        "id": "LPAPxrZqJ_WF"
      },
      "source": [
        "**Conclusión**\n",
        "\n",
        "La mayor **tasa de cumplimiento** la tienen aquellos clientes cuyos ingresos mensuales rondan los **3000 a 9000**. Por otra parte los clientes con más **incumplimiento** son aquellos que sus ingresos mensuales rondan entre los **21000 y 27000**. Es muy probable que esto se deba a que realmente son pocos los clientes con el nivel de ingreso de 3 a 9 mil mientras que la cantidad de clientes va a más del doble en aquellos que ganan entre 21 mil y los 27 mil."
      ]
    },
    {
      "attachments": {},
      "cell_type": "markdown",
      "metadata": {},
      "source": [
        "Se escluyen personas menores a 25 años"
      ]
    },
    {
      "cell_type": "code",
      "execution_count": 83,
      "metadata": {},
      "outputs": [
        {
          "name": "stdout",
          "output_type": "stream",
          "text": [
            "              precision    recall  f1-score   support\n",
            "\n",
            "           0       1.00      1.00      1.00      3567\n",
            "           1       1.00      1.00      1.00       304\n",
            "\n",
            "    accuracy                           1.00      3871\n",
            "   macro avg       1.00      1.00      1.00      3871\n",
            "weighted avg       1.00      1.00      1.00      3871\n",
            "\n",
            "[[3567    0]\n",
            " [   0  304]]\n"
          ]
        }
      ],
      "source": [
        "# Definir las características y el objetivo\n",
        "\n",
        "X = df.drop('debt', axis=1)\n",
        "\n",
        "y = df['debt']\n",
        "\n",
        "X = pd.get_dummies(X)\n",
        "X = X.fillna(X.mean())\n",
        "\n",
        "# Dividir los datos en conjuntos de entrenamiento y prueba\n",
        "X_train, X_test, y_train, y_test = train_test_split(X, y, test_size=0.2, random_state=42)\n",
        "\n",
        "# Entrenar el modelo\n",
        "model = RandomForestClassifier(random_state=42)\n",
        "model.fit(X_train, y_train)\n",
        "\n",
        "# Hacer predicciones en el conjunto de prueba\n",
        "y_pred = model.predict(X_test)\n",
        "\n",
        "# Imprimir el reporte de clasificación\n",
        "print(classification_report(y_test, y_pred))\n",
        "\n",
        "# Imprimir la matriz de confusión\n",
        "print(confusion_matrix(y_test, y_pred))\n"
      ]
    },
    {
      "cell_type": "code",
      "execution_count": 84,
      "metadata": {},
      "outputs": [],
      "source": [
        "# Ajustar el modelo en todos los datos y hacer predicciones\n",
        "model.fit(X, y)\n",
        "predictions = model.predict(X)\n",
        "\n",
        "# Agregar las predicciones al dataframe\n",
        "df['creditworthy'] = predictions\n",
        "\n",
        "# Filtrar solo a los clientes clasificados como viables\n",
        "viable_clients = df[df['creditworthy'] == 0]\n",
        "no_viable_clients = df[df['creditworthy'] == 1]\n"
      ]
    },
    {
      "cell_type": "code",
      "execution_count": 85,
      "metadata": {},
      "outputs": [],
      "source": [
        "# Guardar los clientes viables en un archivo CSV\n",
        "viable_clients.to_csv('data/viable_clients.csv', index=False)\n",
        "no_viable_clients.to_csv('data/no_viable_clients.csv', index=False)\n",
        "df.to_csv('data/clientsFinal.csv', index=False)"
      ]
    },
    {
      "cell_type": "code",
      "execution_count": 86,
      "metadata": {},
      "outputs": [
        {
          "data": {
            "text/html": [
              "<div>\n",
              "<style scoped>\n",
              "    .dataframe tbody tr th:only-of-type {\n",
              "        vertical-align: middle;\n",
              "    }\n",
              "\n",
              "    .dataframe tbody tr th {\n",
              "        vertical-align: top;\n",
              "    }\n",
              "\n",
              "    .dataframe thead th {\n",
              "        text-align: right;\n",
              "    }\n",
              "</style>\n",
              "<table border=\"1\" class=\"dataframe\">\n",
              "  <thead>\n",
              "    <tr style=\"text-align: right;\">\n",
              "      <th></th>\n",
              "      <th>children</th>\n",
              "      <th>days_employed</th>\n",
              "      <th>dob_years</th>\n",
              "      <th>education</th>\n",
              "      <th>education_id</th>\n",
              "      <th>family_status</th>\n",
              "      <th>family_status_id</th>\n",
              "      <th>gender</th>\n",
              "      <th>income_type</th>\n",
              "      <th>debt</th>\n",
              "      <th>total_income</th>\n",
              "      <th>purpose</th>\n",
              "      <th>age_range</th>\n",
              "      <th>debt_name</th>\n",
              "      <th>children_range</th>\n",
              "      <th>income_range</th>\n",
              "      <th>purpose_classified</th>\n",
              "      <th>creditworthy</th>\n",
              "    </tr>\n",
              "  </thead>\n",
              "  <tbody>\n",
              "    <tr>\n",
              "      <th>0</th>\n",
              "      <td>1</td>\n",
              "      <td>352.0</td>\n",
              "      <td>42</td>\n",
              "      <td>masters degree</td>\n",
              "      <td>0</td>\n",
              "      <td>married</td>\n",
              "      <td>0</td>\n",
              "      <td>F</td>\n",
              "      <td>employee</td>\n",
              "      <td>0</td>\n",
              "      <td>253875.639453</td>\n",
              "      <td>purchase of the house</td>\n",
              "      <td>40-50</td>\n",
              "      <td>no deudor</td>\n",
              "      <td>con hijos</td>\n",
              "      <td>27000+</td>\n",
              "      <td>real estate</td>\n",
              "      <td>0</td>\n",
              "    </tr>\n",
              "    <tr>\n",
              "      <th>1</th>\n",
              "      <td>1</td>\n",
              "      <td>168.0</td>\n",
              "      <td>36</td>\n",
              "      <td>secondary education</td>\n",
              "      <td>1</td>\n",
              "      <td>married</td>\n",
              "      <td>0</td>\n",
              "      <td>F</td>\n",
              "      <td>employee</td>\n",
              "      <td>0</td>\n",
              "      <td>112080.014102</td>\n",
              "      <td>car purchase</td>\n",
              "      <td>30-40</td>\n",
              "      <td>no deudor</td>\n",
              "      <td>con hijos</td>\n",
              "      <td>27000+</td>\n",
              "      <td>car</td>\n",
              "      <td>0</td>\n",
              "    </tr>\n",
              "    <tr>\n",
              "      <th>2</th>\n",
              "      <td>0</td>\n",
              "      <td>234.0</td>\n",
              "      <td>33</td>\n",
              "      <td>secondary education</td>\n",
              "      <td>1</td>\n",
              "      <td>married</td>\n",
              "      <td>0</td>\n",
              "      <td>M</td>\n",
              "      <td>employee</td>\n",
              "      <td>0</td>\n",
              "      <td>145885.952297</td>\n",
              "      <td>purchase of the house</td>\n",
              "      <td>30-40</td>\n",
              "      <td>no deudor</td>\n",
              "      <td>sin hijos</td>\n",
              "      <td>27000+</td>\n",
              "      <td>real estate</td>\n",
              "      <td>0</td>\n",
              "    </tr>\n",
              "    <tr>\n",
              "      <th>3</th>\n",
              "      <td>3</td>\n",
              "      <td>172.0</td>\n",
              "      <td>32</td>\n",
              "      <td>secondary education</td>\n",
              "      <td>1</td>\n",
              "      <td>married</td>\n",
              "      <td>0</td>\n",
              "      <td>M</td>\n",
              "      <td>employee</td>\n",
              "      <td>0</td>\n",
              "      <td>267628.550329</td>\n",
              "      <td>supplementary education</td>\n",
              "      <td>30-40</td>\n",
              "      <td>no deudor</td>\n",
              "      <td>con hijos</td>\n",
              "      <td>27000+</td>\n",
              "      <td>education</td>\n",
              "      <td>0</td>\n",
              "    </tr>\n",
              "    <tr>\n",
              "      <th>4</th>\n",
              "      <td>0</td>\n",
              "      <td>14178.0</td>\n",
              "      <td>53</td>\n",
              "      <td>secondary education</td>\n",
              "      <td>1</td>\n",
              "      <td>civil partnership</td>\n",
              "      <td>1</td>\n",
              "      <td>F</td>\n",
              "      <td>retiree</td>\n",
              "      <td>0</td>\n",
              "      <td>158616.077870</td>\n",
              "      <td>to have a wedding</td>\n",
              "      <td>50-60</td>\n",
              "      <td>no deudor</td>\n",
              "      <td>sin hijos</td>\n",
              "      <td>27000+</td>\n",
              "      <td>wedding</td>\n",
              "      <td>0</td>\n",
              "    </tr>\n",
              "  </tbody>\n",
              "</table>\n",
              "</div>"
            ],
            "text/plain": [
              "   children  days_employed  dob_years            education  education_id  \\\n",
              "0         1          352.0         42       masters degree             0   \n",
              "1         1          168.0         36  secondary education             1   \n",
              "2         0          234.0         33  secondary education             1   \n",
              "3         3          172.0         32  secondary education             1   \n",
              "4         0        14178.0         53  secondary education             1   \n",
              "\n",
              "       family_status  family_status_id gender income_type  debt  \\\n",
              "0            married                 0      F    employee     0   \n",
              "1            married                 0      F    employee     0   \n",
              "2            married                 0      M    employee     0   \n",
              "3            married                 0      M    employee     0   \n",
              "4  civil partnership                 1      F     retiree     0   \n",
              "\n",
              "    total_income                  purpose age_range  debt_name children_range  \\\n",
              "0  253875.639453    purchase of the house     40-50  no deudor      con hijos   \n",
              "1  112080.014102             car purchase     30-40  no deudor      con hijos   \n",
              "2  145885.952297    purchase of the house     30-40  no deudor      sin hijos   \n",
              "3  267628.550329  supplementary education     30-40  no deudor      con hijos   \n",
              "4  158616.077870        to have a wedding     50-60  no deudor      sin hijos   \n",
              "\n",
              "  income_range purpose_classified  creditworthy  \n",
              "0       27000+        real estate             0  \n",
              "1       27000+                car             0  \n",
              "2       27000+        real estate             0  \n",
              "3       27000+          education             0  \n",
              "4       27000+            wedding             0  "
            ]
          },
          "execution_count": 86,
          "metadata": {},
          "output_type": "execute_result"
        }
      ],
      "source": [
        "df.head()"
      ]
    },
    {
      "cell_type": "code",
      "execution_count": 87,
      "metadata": {},
      "outputs": [
        {
          "data": {
            "image/png": "[encoded data removed]",
            "text/plain": [
              "<Figure size 640x480 with 2 Axes>"
            ]
          },
          "metadata": {},
          "output_type": "display_data"
        }
      ],
      "source": [
        "# calcular la matriz de correlación\n",
        "corr = df[['children', 'days_employed', 'dob_years', 'education_id', 'family_status_id', 'debt', 'total_income']].corr()\n",
        "\n",
        "# crear un heatmap\n",
        "sns.heatmap(corr, \n",
        "        xticklabels=corr.columns,\n",
        "        yticklabels=corr.columns,\n",
        "        annot=True,\n",
        "        cmap='coolwarm')\n",
        "plt.title('Matriz de correlación')\n",
        "plt.show()"
      ]
    },
    {
      "cell_type": "code",
      "execution_count": 88,
      "metadata": {},
      "outputs": [
        {
          "data": {
            "image/png": "[encoded data removed]",
            "text/plain": [
              "<Figure size 640x480 with 1 Axes>"
            ]
          },
          "metadata": {},
          "output_type": "display_data"
        }
      ],
      "source": [
        "plt.scatter(df['total_income'], df['dob_years'])\n",
        "plt.title('Ingreso total vs. Edad')\n",
        "plt.xlabel('Ingreso total')\n",
        "plt.ylabel('Edad')\n",
        "plt.show()\n"
      ]
    }
  ],
  "metadata": {
    "ExecuteTimeLog": [
      {
        "duration": 2741,
        "start_time": "2021-10-21T01:08:49.480Z"
      },
      {
        "duration": 52,
        "start_time": "2021-10-21T01:08:53.315Z"
      },
      {
        "duration": 49,
        "start_time": "2021-10-21T01:08:57.432Z"
      },
      {
        "duration": 70,
        "start_time": "2021-10-21T01:09:07.706Z"
      }
    ],
    "colab": {
      "provenance": []
    },
    "kernelspec": {
      "display_name": "Python 3 (ipykernel)",
      "language": "python",
      "name": "python3"
    },
    "language_info": {
      "codemirror_mode": {
        "name": "ipython",
        "version": 3
      },
      "file_extension": ".py",
      "mimetype": "text/x-python",
      "name": "python",
      "nbconvert_exporter": "python",
      "pygments_lexer": "ipython3",
      "version": "3.11.3"
    },
    "toc": {
      "base_numbering": 1,
      "nav_menu": {
        "height": "244px",
        "width": "527px"
      },
      "number_sections": true,
      "sideBar": true,
      "skip_h1_title": true,
      "title_cell": "Table of Contents",
      "title_sidebar": "Contents",
      "toc_cell": false,
      "toc_position": {
        "height": "calc(100% - 180px)",
        "left": "10px",
        "top": "150px",
        "width": "312.594px"
      },
      "toc_section_display": true,
      "toc_window_display": false
    }
  },
  "nbformat": 4,
  "nbformat_minor": 0
}
